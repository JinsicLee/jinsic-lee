{
  "nbformat": 4,
  "nbformat_minor": 0,
  "metadata": {
    "colab": {
      "provenance": [],
      "include_colab_link": true
    },
    "kernelspec": {
      "name": "python3",
      "display_name": "Python 3"
    },
    "language_info": {
      "name": "python"
    }
  },
  "cells": [
    {
      "cell_type": "markdown",
      "metadata": {
        "id": "view-in-github",
        "colab_type": "text"
      },
      "source": [
        "<a href=\"https://colab.research.google.com/github/JinsicLee/jinsic-lee/blob/main/221205_ch01_numpy01.ipynb\" target=\"_parent\"><img src=\"https://colab.research.google.com/assets/colab-badge.svg\" alt=\"Open In Colab\"/></a>"
      ]
    },
    {
      "cell_type": "markdown",
      "source": [
        "골든 서클 이론\n",
        "* Why? : 목적, 목표\n",
        "* How? : 어떤 방식, 도구를 사용할 것이냐\n",
        "* What? : 그래서 구체적으로 배우는게 뭐냐"
      ],
      "metadata": {
        "id": "gmEHkPKH4KbA"
      }
    },
    {
      "cell_type": "markdown",
      "source": [
        "인공지능 -> 인간의 지능을 흉내낸 컴퓨터 프로그램을 만드는 것\n",
        "-> 컴퓨터 프로그램이다 / 많은 계산, 많은 데이터를 처리할 수 있어야함\n",
        "-> 컴퓨터에게 최적화된 방식으로 데이터를 제공 (숫자나 규칙적으로 반복되는 것)\n",
        "-> 컴퓨터가 이해하기 좋게 데이터를 다듬는 과정 (70%) : 전처리\n",
        "-> 0, 1 ... (우리가 모르잖아요)\n",
        "-> **반복되는 타입을 가진 나열된 데이터 (배열)**\n",
        "=> Numpy\n"
      ],
      "metadata": {
        "id": "200Mpw8R4-81"
      }
    },
    {
      "cell_type": "markdown",
      "source": [
        "# 배열 (Array)\n",
        "* 0개 이상의 데이터를 하나의 변수에 할당 : 리스트(list)"
      ],
      "metadata": {
        "id": "ESyubv3k56Rb"
      }
    },
    {
      "cell_type": "code",
      "execution_count": null,
      "metadata": {
        "colab": {
          "base_uri": "https://localhost:8080/"
        },
        "id": "g0ECPW6Z4EQx",
        "outputId": "06f25320-9d54-4f05-cde7-de1deca61228"
      },
      "outputs": [
        {
          "output_type": "execute_result",
          "data": {
            "text/plain": [
              "['a']"
            ]
          },
          "metadata": {},
          "execution_count": 1
        }
      ],
      "source": [
        "a = []\n",
        "a.append('a')\n",
        "a"
      ]
    },
    {
      "cell_type": "markdown",
      "source": [
        "* 리스트 : 컴퓨터가 리스트를 싫어하는 이유\n",
        "1. 길이가 가변적임 -> 메모리 문제\n",
        "2. 들어가는 타입이 지멋대로임 -> int, str?\n",
        "* 배열 (Array)\n",
        "1. 길이가 고정적임 (원소의 갯수를 바꿀 수가 없음)\n",
        "2. 타입이 고정적임 (모든 원소의 타입이 같은 자료형이여함)\n",
        "-> 메모리 문제 (자리? 타입?)\n",
        "=> 적은 메모리로 많은 데이터를 빠르게 처리할 수 있음\n",
        "\n"
      ],
      "metadata": {
        "id": "c5fKqS1h6Qgd"
      }
    },
    {
      "cell_type": "code",
      "source": [
        "# 파이썬에는 배열을 처리하는 자체 내장 패키지 X\n",
        "# !pip install numpy -> colab의 장점 : 웬만한 것 다 깔려있음\n",
        "# import numpy\n",
        "import numpy as np\n",
        "# colab에서 tab 누르면 자동 완성\n",
        "# colab 블록 실행 : ctrl + enter\n",
        "# 블록을 실행하고 추가 블록 생성 : alt + enter"
      ],
      "metadata": {
        "id": "EF3kTrnW6NAq"
      },
      "execution_count": null,
      "outputs": []
    },
    {
      "cell_type": "markdown",
      "source": [
        "## 1차원 배열\n",
        "* 축이 1개인 배열\n",
        "* 리스트나 튜플처럼 한 줄로 이루어진 배열"
      ],
      "metadata": {
        "id": "NyiUceu08k2S"
      }
    },
    {
      "cell_type": "code",
      "source": [
        "np.array([1, 2, 3])"
      ],
      "metadata": {
        "colab": {
          "base_uri": "https://localhost:8080/"
        },
        "id": "nROFQEsP8ZPg",
        "outputId": "4caa3a66-0e7c-4990-ba96-e2bcc61b8401"
      },
      "execution_count": null,
      "outputs": [
        {
          "output_type": "execute_result",
          "data": {
            "text/plain": [
              "array([1, 2, 3])"
            ]
          },
          "metadata": {},
          "execution_count": 4
        }
      ]
    },
    {
      "cell_type": "code",
      "source": [
        "arr = np.array([i for i in range(10)])\n",
        "type(arr) # ndarray -> numpy를 통해서 생성된 배열"
      ],
      "metadata": {
        "colab": {
          "base_uri": "https://localhost:8080/"
        },
        "id": "IQKm-Mmz8GlK",
        "outputId": "609f8297-cacd-499c-e431-2d432e6582ce"
      },
      "execution_count": null,
      "outputs": [
        {
          "output_type": "execute_result",
          "data": {
            "text/plain": [
              "numpy.ndarray"
            ]
          },
          "metadata": {},
          "execution_count": 6
        }
      ]
    },
    {
      "cell_type": "markdown",
      "source": [
        "## ndarray\n",
        "* 배열 객체 타입(자료형)\n",
        "* 리스트와 동일해 보이지만 차이가 많음\n",
        "\n",
        "|자료형|특징|\n",
        "|:-|:-|\n",
        "|리스트(list)|각각의 원소가 다른 자료형이 될 수 있음|\n",
        "|배열(array)|연속적인 메모리 배치를 가지기 때문에 모든 원소가 같은 자료형이어야 함<br>원소에 대한 접근과 반복문 실행이 빨라짐|"
      ],
      "metadata": {
        "id": "yAxQDXRo9UFk"
      }
    },
    {
      "cell_type": "code",
      "source": [
        "import random # 임의의 수\n",
        "\n",
        "def average_python(n): \n",
        "    s = 0\n",
        "    for i in range(n): # n번 반복문\n",
        "        s += random.random() # 0~1 사이의 수 (+)\n",
        "    # s = ??\n",
        "    return s / n"
      ],
      "metadata": {
        "id": "qEjL6cbv9QUw"
      },
      "execution_count": null,
      "outputs": []
    },
    {
      "cell_type": "code",
      "source": [
        "%time average_python(100000)\n",
        "%timeit average_python(100000)"
      ],
      "metadata": {
        "colab": {
          "base_uri": "https://localhost:8080/"
        },
        "id": "McqKK9ibBSsh",
        "outputId": "d088a7ab-65dd-4936-db45-e1289ab8a63f"
      },
      "execution_count": null,
      "outputs": [
        {
          "output_type": "stream",
          "name": "stdout",
          "text": [
            "CPU times: user 14.9 ms, sys: 905 µs, total: 15.8 ms\n",
            "Wall time: 16.6 ms\n",
            "11.7 ms ± 957 µs per loop (mean ± std. dev. of 7 runs, 100 loops each)\n"
          ]
        }
      ]
    },
    {
      "cell_type": "code",
      "source": [
        "def average_numpy(n):\n",
        "    s = np.random.random(n)\n",
        "    return s.mean() # 평균"
      ],
      "metadata": {
        "id": "OEscBeVsBYbf"
      },
      "execution_count": null,
      "outputs": []
    },
    {
      "cell_type": "code",
      "source": [
        "%time average_numpy(100000)\n",
        "%timeit average_numpy(100000)"
      ],
      "metadata": {
        "colab": {
          "base_uri": "https://localhost:8080/"
        },
        "id": "9gN5q3aUBq2H",
        "outputId": "42cf519d-d7e3-4ddb-f2cb-2a430fd040bb"
      },
      "execution_count": null,
      "outputs": [
        {
          "output_type": "stream",
          "name": "stdout",
          "text": [
            "CPU times: user 3.1 ms, sys: 0 ns, total: 3.1 ms\n",
            "Wall time: 2.13 ms\n",
            "979 µs ± 27.5 µs per loop (mean ± std. dev. of 7 runs, 1000 loops each)\n"
          ]
        }
      ]
    },
    {
      "cell_type": "markdown",
      "source": [
        "## 벡터화 연산 (vectorized operation)"
      ],
      "metadata": {
        "id": "kJ83yXlfCLRU"
      }
    },
    {
      "cell_type": "code",
      "source": [
        "a = [1, 2, 3]\n",
        "a"
      ],
      "metadata": {
        "colab": {
          "base_uri": "https://localhost:8080/"
        },
        "id": "GZtOZ3j6CTmg",
        "outputId": "f3fbd34e-441f-4a71-b972-7e37a8710b57"
      },
      "execution_count": null,
      "outputs": [
        {
          "output_type": "execute_result",
          "data": {
            "text/plain": [
              "[1, 2, 3]"
            ]
          },
          "metadata": {},
          "execution_count": 2
        }
      ]
    },
    {
      "cell_type": "code",
      "source": [
        "# b = [2, 3, 4]\n",
        "a + 1 # 리스트에서의 덧셈은 같은 리스트만 가능하고, 그것은 '연결'을 의미함"
      ],
      "metadata": {
        "colab": {
          "base_uri": "https://localhost:8080/",
          "height": 189
        },
        "id": "B-aOYhptCY96",
        "outputId": "dc120de9-a259-4ca1-ebc7-54fdcee49523"
      },
      "execution_count": null,
      "outputs": [
        {
          "output_type": "error",
          "ename": "TypeError",
          "evalue": "ignored",
          "traceback": [
            "\u001b[0;31m---------------------------------------------------------------------------\u001b[0m",
            "\u001b[0;31mTypeError\u001b[0m                                 Traceback (most recent call last)",
            "\u001b[0;32m<ipython-input-3-4a271f21c138>\u001b[0m in \u001b[0;36m<module>\u001b[0;34m\u001b[0m\n\u001b[1;32m      1\u001b[0m \u001b[0;31m# b = [2, 3, 4]\u001b[0m\u001b[0;34m\u001b[0m\u001b[0;34m\u001b[0m\u001b[0;34m\u001b[0m\u001b[0m\n\u001b[0;32m----> 2\u001b[0;31m \u001b[0ma\u001b[0m \u001b[0;34m+\u001b[0m \u001b[0;36m1\u001b[0m\u001b[0;34m\u001b[0m\u001b[0;34m\u001b[0m\u001b[0m\n\u001b[0m",
            "\u001b[0;31mTypeError\u001b[0m: can only concatenate list (not \"int\") to list"
          ]
        }
      ]
    },
    {
      "cell_type": "code",
      "source": [
        "# c = [2, 4, 6]\n",
        "a * 2 # 리스트에서의 곱셈은 정수만 가능하고, 해당 리스트를 n 배 반복하겠음"
      ],
      "metadata": {
        "colab": {
          "base_uri": "https://localhost:8080/"
        },
        "id": "cEx9xrEaCf1V",
        "outputId": "ee06e245-a6c4-48b2-efc4-b2890941e10d"
      },
      "execution_count": null,
      "outputs": [
        {
          "output_type": "execute_result",
          "data": {
            "text/plain": [
              "[1, 2, 3, 1, 2, 3]"
            ]
          },
          "metadata": {},
          "execution_count": 16
        }
      ]
    },
    {
      "cell_type": "markdown",
      "source": [
        "* 배열 객체 (numpy.ndarray)는 **배열의 각 원소에 대한 반복 연산을 하나의 명령어로 처리** = 벡터화 연산"
      ],
      "metadata": {
        "id": "pn_ksBPqC1fR"
      }
    },
    {
      "cell_type": "code",
      "source": [
        "data = [0, 1, 2, 3, 4, 5, 6, 7, 8, 9] # [i for i in range(10)]\n",
        "data"
      ],
      "metadata": {
        "colab": {
          "base_uri": "https://localhost:8080/"
        },
        "id": "JrW88Lk6C8a9",
        "outputId": "0f83a179-d265-48d4-8b9b-1f28d03470ae"
      },
      "execution_count": null,
      "outputs": [
        {
          "output_type": "execute_result",
          "data": {
            "text/plain": [
              "[0, 1, 2, 3, 4, 5, 6, 7, 8, 9]"
            ]
          },
          "metadata": {},
          "execution_count": 4
        }
      ]
    },
    {
      "cell_type": "code",
      "source": [
        "# 리스트 속에 있는 나열된 데이터를 모두 2배 처리\n",
        "%%time\n",
        "answer = []\n",
        "for v in data:\n",
        "    answer.append(v * 2)\n",
        "answer"
      ],
      "metadata": {
        "colab": {
          "base_uri": "https://localhost:8080/"
        },
        "id": "R-j4NHiIDGgf",
        "outputId": "4cb1bc18-b748-482e-b7eb-773e7ac31064"
      },
      "execution_count": null,
      "outputs": [
        {
          "output_type": "stream",
          "name": "stdout",
          "text": [
            "CPU times: user 24 µs, sys: 1 µs, total: 25 µs\n",
            "Wall time: 38.4 µs\n"
          ]
        },
        {
          "output_type": "execute_result",
          "data": {
            "text/plain": [
              "[0, 2, 4, 6, 8, 10, 12, 14, 16, 18]"
            ]
          },
          "metadata": {},
          "execution_count": 19
        }
      ]
    },
    {
      "cell_type": "code",
      "source": [
        "# 리스트 컴프리헨션\n",
        "%%time\n",
        "answer2 = [x * 2 for x in data]\n",
        "answer2"
      ],
      "metadata": {
        "colab": {
          "base_uri": "https://localhost:8080/"
        },
        "id": "HfaYW3qUDSCh",
        "outputId": "28889a0a-517c-476c-e52a-c26ff90a9c2a"
      },
      "execution_count": null,
      "outputs": [
        {
          "output_type": "stream",
          "name": "stdout",
          "text": [
            "CPU times: user 16 µs, sys: 1e+03 ns, total: 17 µs\n",
            "Wall time: 20 µs\n"
          ]
        },
        {
          "output_type": "execute_result",
          "data": {
            "text/plain": [
              "[0, 2, 4, 6, 8, 10, 12, 14, 16, 18]"
            ]
          },
          "metadata": {},
          "execution_count": 20
        }
      ]
    },
    {
      "cell_type": "code",
      "source": [
        "# 벡터화 연산\n",
        "x = np.array(data)\n",
        "x"
      ],
      "metadata": {
        "colab": {
          "base_uri": "https://localhost:8080/"
        },
        "id": "P0It6gX1Dl73",
        "outputId": "697bbfbd-7730-47e8-cda5-48b8a3f7019d"
      },
      "execution_count": null,
      "outputs": [
        {
          "output_type": "execute_result",
          "data": {
            "text/plain": [
              "array([0, 1, 2, 3, 4, 5, 6, 7, 8, 9])"
            ]
          },
          "metadata": {},
          "execution_count": 5
        }
      ]
    },
    {
      "cell_type": "code",
      "source": [
        "%time x * 2"
      ],
      "metadata": {
        "colab": {
          "base_uri": "https://localhost:8080/"
        },
        "id": "9DqZKXiZDqPw",
        "outputId": "489ada7b-a800-4a04-db26-49d9e3f28e4d"
      },
      "execution_count": null,
      "outputs": [
        {
          "output_type": "stream",
          "name": "stdout",
          "text": [
            "CPU times: user 32 µs, sys: 6 µs, total: 38 µs\n",
            "Wall time: 42 µs\n"
          ]
        },
        {
          "output_type": "execute_result",
          "data": {
            "text/plain": [
              "array([ 0,  2,  4,  6,  8, 10, 12, 14, 16, 18])"
            ]
          },
          "metadata": {},
          "execution_count": 6
        }
      ]
    },
    {
      "cell_type": "code",
      "source": [
        "data * 2"
      ],
      "metadata": {
        "colab": {
          "base_uri": "https://localhost:8080/"
        },
        "id": "vFv1aQvoD2yh",
        "outputId": "2e12f68d-23c5-413c-d48d-0c180d949b86"
      },
      "execution_count": null,
      "outputs": [
        {
          "output_type": "execute_result",
          "data": {
            "text/plain": [
              "[0, 1, 2, 3, 4, 5, 6, 7, 8, 9, 0, 1, 2, 3, 4, 5, 6, 7, 8, 9]"
            ]
          },
          "metadata": {},
          "execution_count": 24
        }
      ]
    },
    {
      "cell_type": "code",
      "source": [
        "x / 2, x + 2, x ^ 2, x % 2, x ** 2"
      ],
      "metadata": {
        "colab": {
          "base_uri": "https://localhost:8080/"
        },
        "id": "Jlx7pMmcECsg",
        "outputId": "d93b3b0c-c780-4db7-d059-b13b5ee421a1"
      },
      "execution_count": null,
      "outputs": [
        {
          "output_type": "execute_result",
          "data": {
            "text/plain": [
              "(array([0. , 0.5, 1. , 1.5, 2. , 2.5, 3. , 3.5, 4. , 4.5]),\n",
              " array([ 2,  3,  4,  5,  6,  7,  8,  9, 10, 11]),\n",
              " array([ 2,  3,  0,  1,  6,  7,  4,  5, 10, 11]),\n",
              " array([0, 1, 0, 1, 0, 1, 0, 1, 0, 1]),\n",
              " array([ 0,  1,  4,  9, 16, 25, 36, 49, 64, 81]))"
            ]
          },
          "metadata": {},
          "execution_count": 26
        }
      ]
    },
    {
      "cell_type": "markdown",
      "source": [
        "* 벡터화 연산은 사칙연산 뿐만 아니라 비교 연산과 논리 연산을 포함한 모든 종류의 수학 연산에 대해 적용"
      ],
      "metadata": {
        "id": "DkgKEmHIEKmr"
      }
    },
    {
      "cell_type": "code",
      "source": [
        "a = np.array([1, 2, 3])\n",
        "b = np.array([10, 20, 30]) # alt + shift + 위아래방향키 -> 복사\n",
        "a, b"
      ],
      "metadata": {
        "colab": {
          "base_uri": "https://localhost:8080/"
        },
        "id": "raJ9v7nTEIiW",
        "outputId": "dc301d26-76da-4689-9c71-b006a4f5fce5"
      },
      "execution_count": null,
      "outputs": [
        {
          "output_type": "execute_result",
          "data": {
            "text/plain": [
              "(array([1, 2, 3]), array([10, 20, 30]))"
            ]
          },
          "metadata": {},
          "execution_count": 7
        }
      ]
    },
    {
      "cell_type": "code",
      "source": [
        "2 * a + b # 산술 연산"
      ],
      "metadata": {
        "colab": {
          "base_uri": "https://localhost:8080/"
        },
        "id": "W3tKNPxaEGeQ",
        "outputId": "e90c9230-3d65-457b-c4e3-097bce9c3ac7"
      },
      "execution_count": null,
      "outputs": [
        {
          "output_type": "execute_result",
          "data": {
            "text/plain": [
              "array([12, 24, 36])"
            ]
          },
          "metadata": {},
          "execution_count": 28
        }
      ]
    },
    {
      "cell_type": "code",
      "source": [
        "a == 2, b > 10 # 비교 연산"
      ],
      "metadata": {
        "colab": {
          "base_uri": "https://localhost:8080/"
        },
        "id": "ZtYZnUm6E5hK",
        "outputId": "1a2b0cc4-b002-4967-8fb0-92797a5dc928"
      },
      "execution_count": null,
      "outputs": [
        {
          "output_type": "execute_result",
          "data": {
            "text/plain": [
              "(array([False,  True, False]), array([False,  True,  True]))"
            ]
          },
          "metadata": {},
          "execution_count": 29
        }
      ]
    },
    {
      "cell_type": "code",
      "source": [
        "# 논리연산\n",
        "(a == 2) & (b > 10) # & : and 연산자 -> (같은 위치의 원소가) 둘 다 True인 경우"
      ],
      "metadata": {
        "colab": {
          "base_uri": "https://localhost:8080/"
        },
        "id": "QTPxtZnbFJpP",
        "outputId": "5c9f9b51-09bf-44b6-ab00-668bdca1b9eb"
      },
      "execution_count": null,
      "outputs": [
        {
          "output_type": "execute_result",
          "data": {
            "text/plain": [
              "array([False,  True, False])"
            ]
          },
          "metadata": {},
          "execution_count": 33
        }
      ]
    },
    {
      "cell_type": "code",
      "source": [
        "(a == 2) | (b > 10) # | : or 연산자 => (같은 위치의) 원소 중 하나가 True인 경우"
      ],
      "metadata": {
        "colab": {
          "base_uri": "https://localhost:8080/"
        },
        "id": "Q57yUkwOFNb2",
        "outputId": "1d7797b1-6968-4344-8d7c-e0d829e8c31d"
      },
      "execution_count": null,
      "outputs": [
        {
          "output_type": "execute_result",
          "data": {
            "text/plain": [
              "array([False,  True,  True])"
            ]
          },
          "metadata": {},
          "execution_count": 32
        }
      ]
    },
    {
      "cell_type": "markdown",
      "source": [
        "## 2차원 배열\n",
        "-> ndarray => n dimesion array => 다차원배열 자료구조를 지원\n",
        "* 2차원 배열 : 행렬 (matrix)\n",
        "* 가로줄 : 행(row), 세로줄 : 열(column)\n",
        "> 엑셀 스프레드시트와 같은 형태의 배열 -> pandas\n",
        "list of list / 리스트의 리스트 -> 2차원 배열\n",
        "list of list of list / 리스트의 리스트의 리스트 -> 3차원 배열"
      ],
      "metadata": {
        "id": "jm5Koz1SFprN"
      }
    },
    {
      "cell_type": "code",
      "source": [
        "m = np.array([\n",
        "    [0, 1, 2],\n",
        "    [3, 4, 5]\n",
        "]) # 2 x 3 행렬 / m x n : m 행의 갯수, n : 열의 개수\n",
        "m"
      ],
      "metadata": {
        "colab": {
          "base_uri": "https://localhost:8080/"
        },
        "id": "P8HaCzNbFGVe",
        "outputId": "c06cb15d-3422-4dd1-a3c3-14cf2cb36a96"
      },
      "execution_count": null,
      "outputs": [
        {
          "output_type": "execute_result",
          "data": {
            "text/plain": [
              "array([[0, 1, 2],\n",
              "       [3, 4, 5]])"
            ]
          },
          "metadata": {},
          "execution_count": 8
        }
      ]
    },
    {
      "cell_type": "code",
      "source": [
        "# 행의 갯수, 열의 개수\n",
        "print(len(m)) # 행의 개수 - 가장 겉에 있는 리스트의 원소 개수\n",
        "print(len(m[0])) # 열의 개수 - 가장 안에 있는 리스트의 원소 개수"
      ],
      "metadata": {
        "colab": {
          "base_uri": "https://localhost:8080/"
        },
        "id": "5Elbs-GUG6ZB",
        "outputId": "10bbb3ab-6f50-4aa5-89d2-284d7a243b9d"
      },
      "execution_count": null,
      "outputs": [
        {
          "output_type": "stream",
          "name": "stdout",
          "text": [
            "2\n",
            "3\n"
          ]
        }
      ]
    },
    {
      "cell_type": "markdown",
      "source": [
        "## ⚓ 연습문제1\n",
        "```\n",
        "array([[10, 20, 30, 40],\n",
        "       [50, 60, 70, 80]])\n",
        "```"
      ],
      "metadata": {
        "id": "Ae8H0jZuHvHl"
      }
    },
    {
      "cell_type": "code",
      "source": [
        "d = [\n",
        " # 열, 열, 열, 열\n",
        "  [10, 20, 30, 40], # 행\n",
        "  [50, 60, 70, 80] # 행\n",
        "]"
      ],
      "metadata": {
        "id": "24lWRpz7JT_i"
      },
      "execution_count": null,
      "outputs": []
    },
    {
      "cell_type": "code",
      "source": [
        "np.array(d)"
      ],
      "metadata": {
        "colab": {
          "base_uri": "https://localhost:8080/"
        },
        "id": "F8vl6iQVJfVv",
        "outputId": "bc22ab9e-54e6-4e0d-f7ee-5016c9d306b9"
      },
      "execution_count": null,
      "outputs": [
        {
          "output_type": "execute_result",
          "data": {
            "text/plain": [
              "array([[10, 20, 30, 40],\n",
              "       [50, 60, 70, 80]])"
            ]
          },
          "metadata": {},
          "execution_count": 37
        }
      ]
    },
    {
      "cell_type": "code",
      "source": [
        "d2 = [\n",
        "  # 열, 열, 열, 열\n",
        "  [1, 2, 3, 4], # 행\n",
        "  [5, 6, 7, 8] # 행\n",
        "]\n",
        "np.array(d2) * 10"
      ],
      "metadata": {
        "colab": {
          "base_uri": "https://localhost:8080/"
        },
        "id": "up5EVYBgJiff",
        "outputId": "b756ef3b-12c9-4e43-95b2-14c6c80c2366"
      },
      "execution_count": null,
      "outputs": [
        {
          "output_type": "execute_result",
          "data": {
            "text/plain": [
              "array([[10, 20, 30, 40],\n",
              "       [50, 60, 70, 80]])"
            ]
          },
          "metadata": {},
          "execution_count": 38
        }
      ]
    },
    {
      "cell_type": "markdown",
      "source": [
        "## 3차원 배열"
      ],
      "metadata": {
        "id": "24v0le-WJ_Gf"
      }
    },
    {
      "cell_type": "code",
      "source": [
        "t = np.array([[[1, 2, 3, 4],\n",
        "               [5, 6, 7, 8],\n",
        "               [9, 10, 11, 12]],\n",
        "              [[11, 12, 13, 14],\n",
        "               [15, 16, 17, 18],\n",
        "               [19, 20, 21, 22]]])\n",
        "t # 2 x 3 x 4 배열"
      ],
      "metadata": {
        "colab": {
          "base_uri": "https://localhost:8080/"
        },
        "id": "RMNkHZI5J-1V",
        "outputId": "c11f8114-887e-470b-f076-5d1bfdc8a7b2"
      },
      "execution_count": null,
      "outputs": [
        {
          "output_type": "execute_result",
          "data": {
            "text/plain": [
              "array([[[ 1,  2,  3,  4],\n",
              "        [ 5,  6,  7,  8],\n",
              "        [ 9, 10, 11, 12]],\n",
              "\n",
              "       [[11, 12, 13, 14],\n",
              "        [15, 16, 17, 18],\n",
              "        [19, 20, 21, 22]]])"
            ]
          },
          "metadata": {},
          "execution_count": 9
        }
      ]
    },
    {
      "cell_type": "code",
      "source": [
        "# 깊이, 행, 열\n",
        "len(t), len(t[0]), len(t[0][0])"
      ],
      "metadata": {
        "colab": {
          "base_uri": "https://localhost:8080/"
        },
        "id": "UHeZmH-hKoLY",
        "outputId": "6635cde1-fd18-43ce-aca4-46ea6158c210"
      },
      "execution_count": null,
      "outputs": [
        {
          "output_type": "execute_result",
          "data": {
            "text/plain": [
              "(2, 3, 4)"
            ]
          },
          "metadata": {},
          "execution_count": 41
        }
      ]
    },
    {
      "cell_type": "markdown",
      "source": [
        "## 배열의 차원과 크기 알아내기\n",
        "* ndim, shape **속성** 사용\n",
        "* ndim : 배열의 차원\n",
        "* shape : 배열의 크기"
      ],
      "metadata": {
        "id": "4uqQSR93K_uL"
      }
    },
    {
      "cell_type": "code",
      "source": [
        "a.ndim, a.shape # 1차원 배열"
      ],
      "metadata": {
        "colab": {
          "base_uri": "https://localhost:8080/"
        },
        "id": "tdz3QLacLVnu",
        "outputId": "fda3d7c2-eed2-4334-9977-12cbe460baeb"
      },
      "execution_count": null,
      "outputs": [
        {
          "output_type": "execute_result",
          "data": {
            "text/plain": [
              "(1, (3,))"
            ]
          },
          "metadata": {},
          "execution_count": 10
        }
      ]
    },
    {
      "cell_type": "code",
      "source": [
        "m.ndim, m.shape # 2차원 배열"
      ],
      "metadata": {
        "colab": {
          "base_uri": "https://localhost:8080/"
        },
        "id": "WPdxX68aLYm_",
        "outputId": "b5eea76a-6aa2-4ee2-e1c4-b4bf1adba5e2"
      },
      "execution_count": null,
      "outputs": [
        {
          "output_type": "execute_result",
          "data": {
            "text/plain": [
              "(2, (2, 3))"
            ]
          },
          "metadata": {},
          "execution_count": 11
        }
      ]
    },
    {
      "cell_type": "code",
      "source": [
        "t.ndim, t.shape # 3차원 배열"
      ],
      "metadata": {
        "colab": {
          "base_uri": "https://localhost:8080/"
        },
        "id": "kBdAhAb8LfV_",
        "outputId": "9ccd14b3-a157-4e74-9bde-537470257a37"
      },
      "execution_count": null,
      "outputs": [
        {
          "output_type": "execute_result",
          "data": {
            "text/plain": [
              "(3, (2, 3, 4))"
            ]
          },
          "metadata": {},
          "execution_count": 12
        }
      ]
    },
    {
      "cell_type": "markdown",
      "source": [
        "## 배열의 인덱싱"
      ],
      "metadata": {
        "id": "VErWkImhSsri"
      }
    },
    {
      "cell_type": "code",
      "source": [
        "a = [1, 2, 3, 4, 5]\n",
        "a"
      ],
      "metadata": {
        "colab": {
          "base_uri": "https://localhost:8080/"
        },
        "id": "NxjmfKfTS3C2",
        "outputId": "f4281c67-8d58-4b10-9786-01f28b2d4848"
      },
      "execution_count": null,
      "outputs": [
        {
          "output_type": "execute_result",
          "data": {
            "text/plain": [
              "[1, 2, 3, 4, 5]"
            ]
          },
          "metadata": {},
          "execution_count": 76
        }
      ]
    },
    {
      "cell_type": "code",
      "source": [
        "# a => 3을 가져오고 싶다\n",
        "a[2]"
      ],
      "metadata": {
        "colab": {
          "base_uri": "https://localhost:8080/"
        },
        "id": "lryjOF27S8v2",
        "outputId": "caad42b6-943f-4c7c-b6a6-cb608e7ca257"
      },
      "execution_count": null,
      "outputs": [
        {
          "output_type": "execute_result",
          "data": {
            "text/plain": [
              "3"
            ]
          },
          "metadata": {},
          "execution_count": 77
        }
      ]
    },
    {
      "cell_type": "code",
      "source": [
        "a[-3]"
      ],
      "metadata": {
        "colab": {
          "base_uri": "https://localhost:8080/"
        },
        "id": "QlzB2Uj9TBI2",
        "outputId": "21ecf87a-be2e-43db-e3de-7f33968668e6"
      },
      "execution_count": null,
      "outputs": [
        {
          "output_type": "execute_result",
          "data": {
            "text/plain": [
              "3"
            ]
          },
          "metadata": {},
          "execution_count": 78
        }
      ]
    },
    {
      "cell_type": "markdown",
      "source": [
        "### 일차원 배열 인덱싱\n",
        "* 리스트의 인덱싱과 같음"
      ],
      "metadata": {
        "id": "EncRPLfVTG2L"
      }
    },
    {
      "cell_type": "code",
      "source": [
        "a = np.array([0, 1, 2, 3, 4])\n",
        "a[2], a[-1]"
      ],
      "metadata": {
        "colab": {
          "base_uri": "https://localhost:8080/"
        },
        "id": "YZKB-nKYTKk9",
        "outputId": "d67d96be-ec68-4f5e-8ee2-819354455cbe"
      },
      "execution_count": null,
      "outputs": [
        {
          "output_type": "execute_result",
          "data": {
            "text/plain": [
              "(2, 4)"
            ]
          },
          "metadata": {},
          "execution_count": 79
        }
      ]
    },
    {
      "cell_type": "markdown",
      "source": [
        "### 다차원 배열 인덱싱\n",
        "* 콤마(comma, `,`) 접근\n",
        "* 콤마로 구분된 차원을 축(axis)이라고 함\n",
        "* 그래프의 x축, y축"
      ],
      "metadata": {
        "id": "Totz9kGXTpcH"
      }
    },
    {
      "cell_type": "code",
      "source": [
        "b = np.array([[0, 1, 2],\n",
        "              [3, 4, 5]])\n",
        "b"
      ],
      "metadata": {
        "colab": {
          "base_uri": "https://localhost:8080/"
        },
        "id": "6gdvrrCTUGeZ",
        "outputId": "8d5b4564-b943-430a-81cb-fccda7bdc179"
      },
      "execution_count": null,
      "outputs": [
        {
          "output_type": "execute_result",
          "data": {
            "text/plain": [
              "array([[0, 1, 2],\n",
              "       [3, 4, 5]])"
            ]
          },
          "metadata": {},
          "execution_count": 13
        }
      ]
    },
    {
      "cell_type": "code",
      "source": [
        "b.shape"
      ],
      "metadata": {
        "colab": {
          "base_uri": "https://localhost:8080/"
        },
        "id": "-BQQiN_qUN5w",
        "outputId": "586a53dc-d4db-495c-d0e4-21ad3d786060"
      },
      "execution_count": null,
      "outputs": [
        {
          "output_type": "execute_result",
          "data": {
            "text/plain": [
              "(2, 3)"
            ]
          },
          "metadata": {},
          "execution_count": 14
        }
      ]
    },
    {
      "cell_type": "code",
      "source": [
        "b[0, 0] # 첫번째 행의 첫번째 열"
      ],
      "metadata": {
        "colab": {
          "base_uri": "https://localhost:8080/"
        },
        "id": "Y5m_K1ZOUQPr",
        "outputId": "f23ba20a-b27b-4503-ced9-300f83003f8c"
      },
      "execution_count": null,
      "outputs": [
        {
          "output_type": "execute_result",
          "data": {
            "text/plain": [
              "0"
            ]
          },
          "metadata": {},
          "execution_count": 15
        }
      ]
    },
    {
      "cell_type": "code",
      "source": [
        "b[0, 1] # 첫번째 행의 두번째 열"
      ],
      "metadata": {
        "colab": {
          "base_uri": "https://localhost:8080/"
        },
        "id": "th-p0cyjUUJm",
        "outputId": "41e0fe70-dbb9-4b0c-9612-0c0563111bf8"
      },
      "execution_count": null,
      "outputs": [
        {
          "output_type": "execute_result",
          "data": {
            "text/plain": [
              "1"
            ]
          },
          "metadata": {},
          "execution_count": 16
        }
      ]
    },
    {
      "cell_type": "code",
      "source": [
        "b[-1, -1] # 마지막 행의 마지막 열"
      ],
      "metadata": {
        "colab": {
          "base_uri": "https://localhost:8080/"
        },
        "id": "6ymoIw7MUbsu",
        "outputId": "7ca84a91-a099-4787-f683-bb41c3c6e57b"
      },
      "execution_count": null,
      "outputs": [
        {
          "output_type": "execute_result",
          "data": {
            "text/plain": [
              "5"
            ]
          },
          "metadata": {},
          "execution_count": 17
        }
      ]
    },
    {
      "cell_type": "code",
      "source": [
        "b[0, 0] = 10\n",
        "b[0, 0]\n",
        "b"
      ],
      "metadata": {
        "colab": {
          "base_uri": "https://localhost:8080/"
        },
        "id": "FfQrQNz8_KQh",
        "outputId": "6d35f5a8-214d-44a1-9f93-4796229a35d5"
      },
      "execution_count": null,
      "outputs": [
        {
          "output_type": "execute_result",
          "data": {
            "text/plain": [
              "array([[10,  1,  2],\n",
              "       [ 3,  4,  5]])"
            ]
          },
          "metadata": {},
          "execution_count": 19
        }
      ]
    },
    {
      "cell_type": "markdown",
      "source": [
        "## 배열의 복사\n",
        "* 얕은 복사 (Shallow Copy)\n",
        "* 깊은 복사 (Deep Copy)"
      ],
      "metadata": {
        "id": "GSV-aS_hPN97"
      }
    },
    {
      "cell_type": "code",
      "source": [
        "1, '', 0.1 # 원시자료형\n",
        "# 변수 - 연결관계 -> '객체'를 복사한다\n",
        "a = [1, 2, 3]\n",
        "a"
      ],
      "metadata": {
        "colab": {
          "base_uri": "https://localhost:8080/"
        },
        "id": "M7-zAIUKPfpa",
        "outputId": "d8c5c27b-c444-4b45-d119-effe70a0aec3"
      },
      "execution_count": null,
      "outputs": [
        {
          "output_type": "execute_result",
          "data": {
            "text/plain": [
              "[1, 2, 3]"
            ]
          },
          "metadata": {},
          "execution_count": 20
        }
      ]
    },
    {
      "cell_type": "code",
      "source": [
        "b = a # a라고 하는 값이 아니라 a 변수에 지정된 주소값\n",
        "b"
      ],
      "metadata": {
        "colab": {
          "base_uri": "https://localhost:8080/"
        },
        "id": "yt8Uw1xYQAhu",
        "outputId": "ae6582a4-c2db-4b50-be76-ff80a53d8bf8"
      },
      "execution_count": null,
      "outputs": [
        {
          "output_type": "execute_result",
          "data": {
            "text/plain": [
              "[1, 2, 3]"
            ]
          },
          "metadata": {},
          "execution_count": 22
        }
      ]
    },
    {
      "cell_type": "code",
      "source": [
        "a.append(4)\n",
        "a"
      ],
      "metadata": {
        "colab": {
          "base_uri": "https://localhost:8080/"
        },
        "id": "MjYPxRIpQDqW",
        "outputId": "2caea8be-02b5-43f7-c1f9-81024a96de53"
      },
      "execution_count": null,
      "outputs": [
        {
          "output_type": "execute_result",
          "data": {
            "text/plain": [
              "[1, 2, 3, 4]"
            ]
          },
          "metadata": {},
          "execution_count": 23
        }
      ]
    },
    {
      "cell_type": "code",
      "source": [
        "b # 얕은 복사"
      ],
      "metadata": {
        "colab": {
          "base_uri": "https://localhost:8080/"
        },
        "id": "WWQN3T-eQF0N",
        "outputId": "6fda44ad-bb5c-4677-8e01-d103400eef89"
      },
      "execution_count": null,
      "outputs": [
        {
          "output_type": "execute_result",
          "data": {
            "text/plain": [
              "[1, 2, 3, 4]"
            ]
          },
          "metadata": {},
          "execution_count": 24
        }
      ]
    },
    {
      "cell_type": "code",
      "source": [
        "# 아예 새로 만들어줘서 연결 관계 끊기\n",
        "c = ['a', 'b', 'c']\n",
        "c"
      ],
      "metadata": {
        "colab": {
          "base_uri": "https://localhost:8080/"
        },
        "id": "m6qodiBuQWM3",
        "outputId": "5c56fe71-387e-4b0d-b042-80af0f16ae94"
      },
      "execution_count": null,
      "outputs": [
        {
          "output_type": "execute_result",
          "data": {
            "text/plain": [
              "['a', 'b', 'c']"
            ]
          },
          "metadata": {},
          "execution_count": 25
        }
      ]
    },
    {
      "cell_type": "code",
      "source": [
        "d = \" \".join(c).split()\n",
        "# 주소를 옮기는게 아니라 아예 새로운 데이터를 메모리에 할당\n",
        "d"
      ],
      "metadata": {
        "colab": {
          "base_uri": "https://localhost:8080/"
        },
        "id": "4bqjYkU0QlKt",
        "outputId": "b0926ca6-3a94-401c-e7e0-b3c86d396de5"
      },
      "execution_count": null,
      "outputs": [
        {
          "output_type": "execute_result",
          "data": {
            "text/plain": [
              "['a', 'b', 'c']"
            ]
          },
          "metadata": {},
          "execution_count": 26
        }
      ]
    },
    {
      "cell_type": "code",
      "source": [
        "c.append('d')\n",
        "d"
      ],
      "metadata": {
        "colab": {
          "base_uri": "https://localhost:8080/"
        },
        "id": "_bVB-F2LQpx2",
        "outputId": "9621b7d5-f559-4dc6-8f5d-4664c5178301"
      },
      "execution_count": null,
      "outputs": [
        {
          "output_type": "execute_result",
          "data": {
            "text/plain": [
              "['a', 'b', 'c']"
            ]
          },
          "metadata": {},
          "execution_count": 27
        }
      ]
    },
    {
      "cell_type": "code",
      "source": [
        "arr = np.array([1, 2, 3, 4])\n",
        "arr"
      ],
      "metadata": {
        "colab": {
          "base_uri": "https://localhost:8080/"
        },
        "id": "FR7Em0oHQ_Pw",
        "outputId": "040c8c87-3052-48b2-86e8-ca7c1abd95cf"
      },
      "execution_count": null,
      "outputs": [
        {
          "output_type": "execute_result",
          "data": {
            "text/plain": [
              "array([1, 2, 3, 4])"
            ]
          },
          "metadata": {},
          "execution_count": 28
        }
      ]
    },
    {
      "cell_type": "code",
      "source": [
        "arr2 = arr\n",
        "arr2"
      ],
      "metadata": {
        "colab": {
          "base_uri": "https://localhost:8080/"
        },
        "id": "cg0xv1HTRCa7",
        "outputId": "0258ca76-303f-4e4a-8404-78a39f79278e"
      },
      "execution_count": null,
      "outputs": [
        {
          "output_type": "execute_result",
          "data": {
            "text/plain": [
              "array([1, 2, 3, 4])"
            ]
          },
          "metadata": {},
          "execution_count": 29
        }
      ]
    },
    {
      "cell_type": "code",
      "source": [
        "arr[0] = 10\n",
        "arr2"
      ],
      "metadata": {
        "colab": {
          "base_uri": "https://localhost:8080/"
        },
        "id": "qze5ziwfRIVe",
        "outputId": "55663a48-2538-4ae9-a7e9-32f691e587f5"
      },
      "execution_count": null,
      "outputs": [
        {
          "output_type": "execute_result",
          "data": {
            "text/plain": [
              "array([10,  2,  3,  4])"
            ]
          },
          "metadata": {},
          "execution_count": 30
        }
      ]
    },
    {
      "cell_type": "code",
      "source": [
        "arr2.view() # 원본과 연결된 사본"
      ],
      "metadata": {
        "colab": {
          "base_uri": "https://localhost:8080/"
        },
        "id": "O11gXCrORKeO",
        "outputId": "d4db8ecb-80f1-4248-a60b-ed5bec4d8385"
      },
      "execution_count": null,
      "outputs": [
        {
          "output_type": "execute_result",
          "data": {
            "text/plain": [
              "array([10,  2,  3,  4])"
            ]
          },
          "metadata": {},
          "execution_count": 59
        }
      ]
    },
    {
      "cell_type": "code",
      "source": [
        "arr3 = arr.copy() # 속성은 () X, 메소드(함수) () O\n",
        "arr3"
      ],
      "metadata": {
        "colab": {
          "base_uri": "https://localhost:8080/"
        },
        "id": "bA-ESPXCRaD7",
        "outputId": "50f876bf-32fe-4970-c31e-6ed2adc577a9"
      },
      "execution_count": null,
      "outputs": [
        {
          "output_type": "execute_result",
          "data": {
            "text/plain": [
              "array([100,   2,   3,   4])"
            ]
          },
          "metadata": {},
          "execution_count": 68
        }
      ]
    },
    {
      "cell_type": "code",
      "source": [
        "arr[0] = 100\n",
        "arr3"
      ],
      "metadata": {
        "colab": {
          "base_uri": "https://localhost:8080/"
        },
        "id": "0jSOTIepRgeu",
        "outputId": "822db8ef-a762-4c58-b7a2-79ae7446b32f"
      },
      "execution_count": null,
      "outputs": [
        {
          "output_type": "execute_result",
          "data": {
            "text/plain": [
              "array([100,   2,   3,   4])"
            ]
          },
          "metadata": {},
          "execution_count": 69
        }
      ]
    },
    {
      "cell_type": "code",
      "source": [
        "arr = np.array([1, 2, 3, 4, 5])\n",
        "\n",
        "x = arr.copy()\n",
        "y = arr.view()\n",
        "\n",
        "print(x.base) # 배열의 데이터의 소유 여부\n",
        "print(y.base)"
      ],
      "metadata": {
        "colab": {
          "base_uri": "https://localhost:8080/"
        },
        "id": "6NWcUW2RSAVZ",
        "outputId": "7dc7d564-9476-4df6-9a2e-6b5fe6775709"
      },
      "execution_count": null,
      "outputs": [
        {
          "output_type": "stream",
          "name": "stdout",
          "text": [
            "None\n",
            "[1 2 3 4 5]\n"
          ]
        }
      ]
    },
    {
      "cell_type": "markdown",
      "source": [
        "## 배열의 슬라이싱"
      ],
      "metadata": {
        "id": "yPWWwnANUsMf"
      }
    },
    {
      "cell_type": "code",
      "source": [
        "x = [1, 2, 3, 4]\n",
        "x[1:3] # a:b => a는 포함, b는 제외"
      ],
      "metadata": {
        "colab": {
          "base_uri": "https://localhost:8080/"
        },
        "id": "GfBrxqTEUdqw",
        "outputId": "6364e5b3-9559-4751-dfbf-21ce8fa183e4"
      },
      "execution_count": null,
      "outputs": [
        {
          "output_type": "execute_result",
          "data": {
            "text/plain": [
              "[2, 3]"
            ]
          },
          "metadata": {},
          "execution_count": 87
        }
      ]
    },
    {
      "cell_type": "code",
      "source": [
        "x[-3:-1]"
      ],
      "metadata": {
        "colab": {
          "base_uri": "https://localhost:8080/"
        },
        "id": "l5l2Aq7lU5aH",
        "outputId": "612411c9-2bd9-41d2-a5db-57ee3b4a1843"
      },
      "execution_count": null,
      "outputs": [
        {
          "output_type": "execute_result",
          "data": {
            "text/plain": [
              "[2, 3]"
            ]
          },
          "metadata": {},
          "execution_count": 89
        }
      ]
    },
    {
      "cell_type": "code",
      "source": [
        "x[:-1]"
      ],
      "metadata": {
        "colab": {
          "base_uri": "https://localhost:8080/"
        },
        "id": "NxM6OI0zVAID",
        "outputId": "d86beeae-16b9-40ed-c3c1-6f243dae5b7f"
      },
      "execution_count": null,
      "outputs": [
        {
          "output_type": "execute_result",
          "data": {
            "text/plain": [
              "[1, 2, 3]"
            ]
          },
          "metadata": {},
          "execution_count": 90
        }
      ]
    },
    {
      "cell_type": "markdown",
      "source": [
        "* 다차원 배열의 원소 중 2개 이상의 (복수 개)를 접근할 때 일반적인 파이썬 슬라이싱과 콤마를 같이 사용"
      ],
      "metadata": {
        "id": "KnCdyVymVEJz"
      }
    },
    {
      "cell_type": "code",
      "source": [
        "a = np.array([[0, 1, 2, 3], [4, 5, 6, 7]])\n",
        "a"
      ],
      "metadata": {
        "colab": {
          "base_uri": "https://localhost:8080/"
        },
        "id": "LHz49nLJVDBC",
        "outputId": "5443e6e6-34f2-44de-cf0c-553e370e978b"
      },
      "execution_count": null,
      "outputs": [
        {
          "output_type": "execute_result",
          "data": {
            "text/plain": [
              "array([[0, 1, 2, 3],\n",
              "       [4, 5, 6, 7]])"
            ]
          },
          "metadata": {},
          "execution_count": 91
        }
      ]
    },
    {
      "cell_type": "code",
      "source": [
        "a[0, :] # 첫번째 행 전체"
      ],
      "metadata": {
        "colab": {
          "base_uri": "https://localhost:8080/"
        },
        "id": "dHf-AH5uVS0n",
        "outputId": "bcfc8ea0-ee02-43f7-a70f-aa43cf1bd6f4"
      },
      "execution_count": null,
      "outputs": [
        {
          "output_type": "execute_result",
          "data": {
            "text/plain": [
              "array([0, 1, 2, 3])"
            ]
          },
          "metadata": {},
          "execution_count": 92
        }
      ]
    },
    {
      "cell_type": "code",
      "source": [
        "a[:, 0] # 첫번째 열 전체"
      ],
      "metadata": {
        "colab": {
          "base_uri": "https://localhost:8080/"
        },
        "id": "82LSeVj6Vbqe",
        "outputId": "318d806f-b2a7-42b0-e811-4cf74ecb555e"
      },
      "execution_count": null,
      "outputs": [
        {
          "output_type": "execute_result",
          "data": {
            "text/plain": [
              "array([0, 4])"
            ]
          },
          "metadata": {},
          "execution_count": 93
        }
      ]
    },
    {
      "cell_type": "code",
      "source": [
        "a[1, 1:]"
      ],
      "metadata": {
        "colab": {
          "base_uri": "https://localhost:8080/"
        },
        "id": "I7Bcv-rBVjTr",
        "outputId": "2e01ad62-8c5f-4c7e-cdc5-6a01bc8eb4d4"
      },
      "execution_count": null,
      "outputs": [
        {
          "output_type": "execute_result",
          "data": {
            "text/plain": [
              "array([5, 6, 7])"
            ]
          },
          "metadata": {},
          "execution_count": 94
        }
      ]
    },
    {
      "cell_type": "code",
      "source": [
        "a[:2, :2]"
      ],
      "metadata": {
        "colab": {
          "base_uri": "https://localhost:8080/"
        },
        "id": "cwad5TM7Vl1F",
        "outputId": "ba8f8d41-b2cc-4483-bf5d-52aa2b9685c8"
      },
      "execution_count": null,
      "outputs": [
        {
          "output_type": "execute_result",
          "data": {
            "text/plain": [
              "array([[0, 1],\n",
              "       [4, 5]])"
            ]
          },
          "metadata": {},
          "execution_count": 95
        }
      ]
    },
    {
      "cell_type": "markdown",
      "source": [
        "## ⚓ 연습문제2\n",
        "```\n",
        "m = np.array([[0,  1,  2,  3,  4],\n",
        "              [5,  6,  7,  8,  9],\n",
        "              [10, 11, 12, 13, 14]])\n",
        "m\n",
        "```\n",
        "1. 값 7을 인덱싱\n",
        "1. 값 14을 인덱싱\n",
        "1. 배열 [6,7]을 슬라이싱\n",
        "1. 배열 [7,12]을 슬라이싱\n",
        "1. 배열 [[3,4],[8,9]]을 슬라이싱"
      ],
      "metadata": {
        "id": "XsH25XCbV2kd"
      }
    },
    {
      "cell_type": "code",
      "source": [
        "m = np.array([[0,  1,  2,  3,  4],\n",
        "              [5,  6,  7,  8,  9],\n",
        "              [10, 11, 12, 13, 14]])\n",
        "m"
      ],
      "metadata": {
        "colab": {
          "base_uri": "https://localhost:8080/"
        },
        "id": "aD66P1nnty3D",
        "outputId": "8cf7299e-5401-4abd-811e-e61f49d146a7"
      },
      "execution_count": null,
      "outputs": [
        {
          "output_type": "execute_result",
          "data": {
            "text/plain": [
              "array([[ 0,  1,  2,  3,  4],\n",
              "       [ 5,  6,  7,  8,  9],\n",
              "       [10, 11, 12, 13, 14]])"
            ]
          },
          "metadata": {},
          "execution_count": 97
        }
      ]
    },
    {
      "cell_type": "code",
      "source": [
        "#1 값 7을 인덱싱\n",
        "m.shape\n",
        "m[1,2],m[-2,-3],m[1,-3],m[-2,2]"
      ],
      "metadata": {
        "colab": {
          "base_uri": "https://localhost:8080/"
        },
        "id": "L2-0LUG7tnZ7",
        "outputId": "69530918-87c2-47a0-b6ad-290bfcc2d45e"
      },
      "execution_count": null,
      "outputs": [
        {
          "output_type": "execute_result",
          "data": {
            "text/plain": [
              "(7, 7, 7, 7)"
            ]
          },
          "metadata": {},
          "execution_count": 102
        }
      ]
    },
    {
      "cell_type": "code",
      "source": [
        "#2 값 14를 인덱싱\n",
        "m[2,-1], m[-1,4], m[-1,-1], m[2,4]"
      ],
      "metadata": {
        "colab": {
          "base_uri": "https://localhost:8080/"
        },
        "id": "zYR3kA09uLFE",
        "outputId": "73d4e40b-ecf6-46c1-9950-65f25d58567c"
      },
      "execution_count": null,
      "outputs": [
        {
          "output_type": "execute_result",
          "data": {
            "text/plain": [
              "(14, 14, 14, 14)"
            ]
          },
          "metadata": {},
          "execution_count": 105
        }
      ]
    },
    {
      "cell_type": "code",
      "source": [
        "#3 배열 [6,7]을 슬라이싱\n",
        "m\n",
        "m[1,1:3]"
      ],
      "metadata": {
        "colab": {
          "base_uri": "https://localhost:8080/"
        },
        "id": "4GLRVisvucFW",
        "outputId": "b3bed2a7-3eed-4a36-a278-f3ca3f112ddd"
      },
      "execution_count": null,
      "outputs": [
        {
          "output_type": "execute_result",
          "data": {
            "text/plain": [
              "array([6, 7])"
            ]
          },
          "metadata": {},
          "execution_count": 107
        }
      ]
    },
    {
      "cell_type": "code",
      "source": [
        "m[1, 1:3], m[-2, 1:3], m[1, -4:-2], m[-2, -4:-2]"
      ],
      "metadata": {
        "colab": {
          "base_uri": "https://localhost:8080/"
        },
        "id": "sRGNbVftus2T",
        "outputId": "e3345114-e2e0-426d-ff7d-58036388b1a7"
      },
      "execution_count": null,
      "outputs": [
        {
          "output_type": "execute_result",
          "data": {
            "text/plain": [
              "(array([6, 7]), array([6, 7]), array([6, 7]), array([6, 7]))"
            ]
          },
          "metadata": {},
          "execution_count": 108
        }
      ]
    },
    {
      "cell_type": "code",
      "source": [
        "#4 배열 [7,12]을 슬라이싱\n",
        "m[1:] # 2,3번째 행\n",
        "m[1:,2]"
      ],
      "metadata": {
        "colab": {
          "base_uri": "https://localhost:8080/"
        },
        "id": "EGaj5bmTuw14",
        "outputId": "73aef05b-86b4-43e4-9a6b-0ae0eb2b17a9"
      },
      "execution_count": null,
      "outputs": [
        {
          "output_type": "execute_result",
          "data": {
            "text/plain": [
              "array([ 7, 12])"
            ]
          },
          "metadata": {},
          "execution_count": 111
        }
      ]
    },
    {
      "cell_type": "code",
      "source": [
        "m[1:,2], m[-2:,2], m[-2:,-3], m[1:,-3]"
      ],
      "metadata": {
        "colab": {
          "base_uri": "https://localhost:8080/"
        },
        "id": "OrKj6RyevIr1",
        "outputId": "b4f0948a-d30a-4ab2-f787-f91517880ec1"
      },
      "execution_count": null,
      "outputs": [
        {
          "output_type": "execute_result",
          "data": {
            "text/plain": [
              "(array([ 7, 12]), array([ 7, 12]), array([ 7, 12]), array([ 7, 12]))"
            ]
          },
          "metadata": {},
          "execution_count": 112
        }
      ]
    },
    {
      "cell_type": "code",
      "source": [
        "#5 배열 [[3,4],[8,9]]을 슬라이싱\n",
        "m\n",
        "m[:2]\n",
        "m[:2,3:]"
      ],
      "metadata": {
        "colab": {
          "base_uri": "https://localhost:8080/"
        },
        "id": "gRSgyjO5vMYc",
        "outputId": "89285be1-8346-4a4a-c032-156e87d7bf7c"
      },
      "execution_count": null,
      "outputs": [
        {
          "output_type": "execute_result",
          "data": {
            "text/plain": [
              "array([[3, 4],\n",
              "       [8, 9]])"
            ]
          },
          "metadata": {},
          "execution_count": 115
        }
      ]
    },
    {
      "cell_type": "code",
      "source": [
        "print(m[:2,3:])\n",
        "print(m[:-1,3:])\n",
        "print(m[:2,-2:])\n",
        "print(m[:-1,-2:])"
      ],
      "metadata": {
        "colab": {
          "base_uri": "https://localhost:8080/"
        },
        "id": "kJbJMaYdvboS",
        "outputId": "a701fcd4-cf01-4146-a90f-2cf0cd25d1b0"
      },
      "execution_count": null,
      "outputs": [
        {
          "output_type": "stream",
          "name": "stdout",
          "text": [
            "[[3 4]\n",
            " [8 9]]\n",
            "[[3 4]\n",
            " [8 9]]\n",
            "[[3 4]\n",
            " [8 9]]\n",
            "[[3 4]\n",
            " [8 9]]\n"
          ]
        }
      ]
    },
    {
      "cell_type": "markdown",
      "source": [
        "## 배열 인덱싱 (배열을 넣어서 인덱싱하겠다)\n",
        "* arr[...] => 정수형의 값. 슬라이싱 (:) 범위...\n",
        "* 대괄호(bracket,[]) 안에 인덱스 정보로 숫자나 슬라이스가 아니라 위치 정보를 나타내는 또다른 `ndarray` 배열을 넣어서 특정 조건을 만족시키는 값만 조회\n",
        "* 1) 불(Bool)리언 값으로 되어 있는 배열\n",
        "* 2) 정수 인덱스 배열"
      ],
      "metadata": {
        "id": "G9LDKrtrvmb9"
      }
    },
    {
      "cell_type": "markdown",
      "source": [
        "### 불리언 배열 인덱싱\n",
        "- 인덱스 배열의 원소가 True, False 두 값으로만 구성되며 인덱스 배열의 크기가 원래 ndarray 객체의 크기와 같을 때\n",
        "- 벡터화 연산 -> 비교, 논리연산"
      ],
      "metadata": {
        "id": "mxyLyt0twwda"
      }
    },
    {
      "cell_type": "code",
      "source": [
        "a = np.array([0, 1, 2, 3, 4, 5, 6, 7, 8, 9]) # 배열 -> 짝수 원소만 골라내고 싶다\n",
        "idx = np.array([True, False, True, False, True, False, True, False, True, False])\n",
        "a[idx]"
      ],
      "metadata": {
        "colab": {
          "base_uri": "https://localhost:8080/"
        },
        "id": "ctIGXW2-wNf3",
        "outputId": "0ee0b786-371c-4772-ad6d-ce27279a8a76"
      },
      "execution_count": null,
      "outputs": [
        {
          "output_type": "execute_result",
          "data": {
            "text/plain": [
              "array([0, 2, 4, 6, 8])"
            ]
          },
          "metadata": {},
          "execution_count": 117
        }
      ]
    },
    {
      "cell_type": "code",
      "source": [
        "# 벡터화 연산 -> 논리 연산, 비교 연산\n",
        "a % 2 # 2의 배수라는 것은 (짝수라는 것은) 나머지가 0일 때\n",
        "a % 2 == 0 # 짝수의 조건식"
      ],
      "metadata": {
        "colab": {
          "base_uri": "https://localhost:8080/"
        },
        "id": "dd8h-JgExRY7",
        "outputId": "5d62ac4b-e4d5-4ffe-8b79-2ed11b6c6a21"
      },
      "execution_count": null,
      "outputs": [
        {
          "output_type": "execute_result",
          "data": {
            "text/plain": [
              "array([ True, False,  True, False,  True, False,  True, False,  True,\n",
              "       False])"
            ]
          },
          "metadata": {},
          "execution_count": 119
        }
      ]
    },
    {
      "cell_type": "code",
      "source": [
        "a[a % 2 == 0] # 조건문으로 계산해서 (벡터화 연산) 원래 배열에 인덱스에 넣어주면, 필터링이 된다"
      ],
      "metadata": {
        "colab": {
          "base_uri": "https://localhost:8080/"
        },
        "id": "zMSsDaM7xfMa",
        "outputId": "5a9bf4bf-d80b-4e8c-eedc-64af2743b5ea"
      },
      "execution_count": null,
      "outputs": [
        {
          "output_type": "execute_result",
          "data": {
            "text/plain": [
              "array([0, 2, 4, 6, 8])"
            ]
          },
          "metadata": {},
          "execution_count": 120
        }
      ]
    },
    {
      "cell_type": "code",
      "source": [
        "a[a % 3 == 0]"
      ],
      "metadata": {
        "colab": {
          "base_uri": "https://localhost:8080/"
        },
        "id": "aQFXQLtexrRB",
        "outputId": "a2a7a4f9-d50e-4e7b-fb02-ff2ee27214d8"
      },
      "execution_count": null,
      "outputs": [
        {
          "output_type": "execute_result",
          "data": {
            "text/plain": [
              "array([0, 3, 6, 9])"
            ]
          },
          "metadata": {},
          "execution_count": 121
        }
      ]
    },
    {
      "cell_type": "code",
      "source": [
        "a[a % 3 != 0]"
      ],
      "metadata": {
        "colab": {
          "base_uri": "https://localhost:8080/"
        },
        "id": "Mf8vrmqlxtuu",
        "outputId": "f72b074b-1909-4f6e-f2cb-4b8da8e42abe"
      },
      "execution_count": null,
      "outputs": [
        {
          "output_type": "execute_result",
          "data": {
            "text/plain": [
              "array([1, 2, 4, 5, 7, 8])"
            ]
          },
          "metadata": {},
          "execution_count": 122
        }
      ]
    },
    {
      "cell_type": "markdown",
      "source": [
        "### 정수 배열 인덱싱\n",
        "* 원래 배열의 인덱스 -> 정수값의 라벨링 (0~)\n",
        "* 특정 정수들의 인덱스 배열을 넣으면, 해당 정수에 대응하는 값을 찾아서 표현해줌"
      ],
      "metadata": {
        "id": "pco9T2c8yI8P"
      }
    },
    {
      "cell_type": "code",
      "source": [
        "a = np.array([1, 2, 3, 4, 5, 6, 7, 8, 9]) * 11\n",
        "a"
      ],
      "metadata": {
        "colab": {
          "base_uri": "https://localhost:8080/"
        },
        "id": "CqVpIHGPyOBo",
        "outputId": "0d5af400-0a0a-40a9-eed9-be79553b1439"
      },
      "execution_count": null,
      "outputs": [
        {
          "output_type": "execute_result",
          "data": {
            "text/plain": [
              "array([11, 22, 33, 44, 55, 66, 77, 88, 99])"
            ]
          },
          "metadata": {},
          "execution_count": 123
        }
      ]
    },
    {
      "cell_type": "code",
      "source": [
        "idx = np.array([0, 2, 4, 6, 8])\n",
        "a[idx]"
      ],
      "metadata": {
        "colab": {
          "base_uri": "https://localhost:8080/"
        },
        "id": "Nmnn6248yeVi",
        "outputId": "edfec288-e893-49bd-fc20-a2c64a2f4786"
      },
      "execution_count": null,
      "outputs": [
        {
          "output_type": "execute_result",
          "data": {
            "text/plain": [
              "array([11, 33, 55, 77, 99])"
            ]
          },
          "metadata": {},
          "execution_count": 124
        }
      ]
    },
    {
      "cell_type": "code",
      "source": [
        "idx2 = np.array([0, 0, 0, 0, 1, 1, 1, 1, 2, 2, 2, 2])\n",
        "a[idx2]"
      ],
      "metadata": {
        "colab": {
          "base_uri": "https://localhost:8080/"
        },
        "id": "xXL7K0QVytem",
        "outputId": "3061ce2d-7ed1-4a0b-e79d-85f5cec3dcec"
      },
      "execution_count": null,
      "outputs": [
        {
          "output_type": "execute_result",
          "data": {
            "text/plain": [
              "array([11, 11, 11, 11, 22, 22, 22, 22, 33, 33, 33, 33])"
            ]
          },
          "metadata": {},
          "execution_count": 125
        }
      ]
    },
    {
      "cell_type": "markdown",
      "source": [
        "## 다차원 배열에서의 배열 인덱싱"
      ],
      "metadata": {
        "id": "AMjSq-M2y5jP"
      }
    },
    {
      "cell_type": "code",
      "source": [
        "a = np.array([[1, 2, 3, 4], [5, 6, 7, 8], [9, 10, 11, 12]])\n",
        "a"
      ],
      "metadata": {
        "colab": {
          "base_uri": "https://localhost:8080/"
        },
        "id": "FEGS9l6EzE80",
        "outputId": "77c2b6c6-8e69-4176-ec09-3ede65530673"
      },
      "execution_count": null,
      "outputs": [
        {
          "output_type": "execute_result",
          "data": {
            "text/plain": [
              "array([[ 1,  2,  3,  4],\n",
              "       [ 5,  6,  7,  8],\n",
              "       [ 9, 10, 11, 12]])"
            ]
          },
          "metadata": {},
          "execution_count": 126
        }
      ]
    },
    {
      "cell_type": "code",
      "source": [
        "a.shape"
      ],
      "metadata": {
        "colab": {
          "base_uri": "https://localhost:8080/"
        },
        "id": "2N9NLom7zK9T",
        "outputId": "4b3f1b47-0c7a-47e0-bc0f-2c50ba729cf5"
      },
      "execution_count": null,
      "outputs": [
        {
          "output_type": "execute_result",
          "data": {
            "text/plain": [
              "(3, 4)"
            ]
          },
          "metadata": {},
          "execution_count": 127
        }
      ]
    },
    {
      "cell_type": "code",
      "source": [
        "a[:,[True, False, False, True]]"
      ],
      "metadata": {
        "colab": {
          "base_uri": "https://localhost:8080/"
        },
        "id": "deJTqxMuzNJc",
        "outputId": "8f7d72ff-7c05-4b58-a869-7cb7214ef157"
      },
      "execution_count": null,
      "outputs": [
        {
          "output_type": "execute_result",
          "data": {
            "text/plain": [
              "array([[ 1,  4],\n",
              "       [ 5,  8],\n",
              "       [ 9, 12]])"
            ]
          },
          "metadata": {},
          "execution_count": 128
        }
      ]
    },
    {
      "cell_type": "code",
      "source": [
        "a[[2, 0, 1], :] # 2번째, 0번째, 1번째"
      ],
      "metadata": {
        "colab": {
          "base_uri": "https://localhost:8080/"
        },
        "id": "BtRO5b6BzYps",
        "outputId": "bcfaa8eb-47fa-419e-d45e-531e7010572f"
      },
      "execution_count": null,
      "outputs": [
        {
          "output_type": "execute_result",
          "data": {
            "text/plain": [
              "array([[ 9, 10, 11, 12],\n",
              "       [ 1,  2,  3,  4],\n",
              "       [ 5,  6,  7,  8]])"
            ]
          },
          "metadata": {},
          "execution_count": 129
        }
      ]
    },
    {
      "cell_type": "markdown",
      "source": [
        "## ⚓ 연습문제3\n",
        "```\n",
        "x = np.array([1, 2, 3, 4, 5, 6, 7, 8, 9, 10,\n",
        "             11, 12, 13, 14, 15, 16, 17, 18, 19, 20])\n",
        "```\n",
        "1. 3의 배수 찾기\n",
        "1. 4로 나누면 1이 남는 수 찾기\n",
        "1. 3으로 나누면 나누어지고 4로 나누면 1이 남는 수 찾기\n"
      ],
      "metadata": {
        "id": "Gdrc63-1zkd0"
      }
    },
    {
      "cell_type": "code",
      "source": [
        "x = np.array([1, 2, 3, 4, 5, 6, 7, 8, 9, 10,\n",
        "             11, 12, 13, 14, 15, 16, 17, 18, 19, 20])"
      ],
      "metadata": {
        "id": "mVMVeA7C4u5S"
      },
      "execution_count": null,
      "outputs": []
    },
    {
      "cell_type": "code",
      "source": [
        "# 1 : 3의 배수 찾기\n",
        "x[x % 3 == 0]"
      ],
      "metadata": {
        "colab": {
          "base_uri": "https://localhost:8080/"
        },
        "id": "gIP-SfOw4qzI",
        "outputId": "fc271685-ec66-46fb-81a5-313e28caf624"
      },
      "execution_count": null,
      "outputs": [
        {
          "output_type": "execute_result",
          "data": {
            "text/plain": [
              "array([ 3,  6,  9, 12, 15, 18])"
            ]
          },
          "metadata": {},
          "execution_count": 132
        }
      ]
    },
    {
      "cell_type": "code",
      "source": [
        "# 2 : 4로 나누면 1이 남는 수 찾기\n",
        "x[x % 4 == 1]"
      ],
      "metadata": {
        "colab": {
          "base_uri": "https://localhost:8080/"
        },
        "id": "3aykWeiU4zi9",
        "outputId": "5646e194-8583-4c4f-91f2-79d2e6e057aa"
      },
      "execution_count": null,
      "outputs": [
        {
          "output_type": "execute_result",
          "data": {
            "text/plain": [
              "array([ 1,  5,  9, 13, 17])"
            ]
          },
          "metadata": {},
          "execution_count": 133
        }
      ]
    },
    {
      "cell_type": "code",
      "source": [
        "# 3 : 3로 나누면 나누어지고 4로 나누면 1이 남는 수 찾기\n",
        "x[(x % 3 == 0) & (x % 4 == 1)], x[(x % 3 == 0) | (x % 4 == 1)]"
      ],
      "metadata": {
        "colab": {
          "base_uri": "https://localhost:8080/"
        },
        "id": "vAT0nD3W45Mn",
        "outputId": "6340689e-a162-4ab0-bac8-3ed5f260ad6f"
      },
      "execution_count": null,
      "outputs": [
        {
          "output_type": "execute_result",
          "data": {
            "text/plain": [
              "(array([9]), array([ 1,  3,  5,  6,  9, 12, 13, 15, 17, 18]))"
            ]
          },
          "metadata": {},
          "execution_count": 135
        }
      ]
    },
    {
      "cell_type": "markdown",
      "source": [
        "## 배열 검색"
      ],
      "metadata": {
        "id": "j2GRjc4P5Q3e"
      }
    },
    {
      "cell_type": "code",
      "source": [
        "arr = np.array([1, 2, 3, 4, 5, 4, 4])"
      ],
      "metadata": {
        "id": "7J0Jn0X45QMV"
      },
      "execution_count": null,
      "outputs": []
    },
    {
      "cell_type": "code",
      "source": [
        "x = np.where(arr == 4) # np.where(condition) -> 조건을 만족시키는 인덱스를 리턴\n",
        "x"
      ],
      "metadata": {
        "colab": {
          "base_uri": "https://localhost:8080/"
        },
        "id": "8AYtm5cN5WGR",
        "outputId": "68f922f9-8c07-4c04-bb3b-6f58da287fb2"
      },
      "execution_count": null,
      "outputs": [
        {
          "output_type": "execute_result",
          "data": {
            "text/plain": [
              "(array([3, 5, 6]),)"
            ]
          },
          "metadata": {},
          "execution_count": 137
        }
      ]
    },
    {
      "cell_type": "code",
      "source": [
        "arr[x]"
      ],
      "metadata": {
        "colab": {
          "base_uri": "https://localhost:8080/"
        },
        "id": "nExB6EzZ5tX-",
        "outputId": "6bc6e589-5ac7-4b7a-a366-514cdbd4e7b0"
      },
      "execution_count": null,
      "outputs": [
        {
          "output_type": "execute_result",
          "data": {
            "text/plain": [
              "array([4, 4, 4])"
            ]
          },
          "metadata": {},
          "execution_count": 138
        }
      ]
    },
    {
      "cell_type": "code",
      "source": [
        "arr = np.array([1, 2, 3, 4, 5, 6, 7, 8])\n",
        "\n",
        "x = np.where(arr % 2 == 0)\n",
        "\n",
        "x"
      ],
      "metadata": {
        "colab": {
          "base_uri": "https://localhost:8080/"
        },
        "id": "KVj_64kh5ycs",
        "outputId": "a2d3cd5f-a6d6-4295-c43a-b98f8501f175"
      },
      "execution_count": null,
      "outputs": [
        {
          "output_type": "execute_result",
          "data": {
            "text/plain": [
              "(array([1, 3, 5, 7]),)"
            ]
          },
          "metadata": {},
          "execution_count": 139
        }
      ]
    },
    {
      "cell_type": "code",
      "source": [
        "arr[x]"
      ],
      "metadata": {
        "colab": {
          "base_uri": "https://localhost:8080/"
        },
        "id": "CYGP_BtI51vj",
        "outputId": "f9b7009f-3c4a-4388-9697-9fc44ef720fa"
      },
      "execution_count": null,
      "outputs": [
        {
          "output_type": "execute_result",
          "data": {
            "text/plain": [
              "array([2, 4, 6, 8])"
            ]
          },
          "metadata": {},
          "execution_count": 140
        }
      ]
    }
  ]
}