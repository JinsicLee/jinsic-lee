{
  "nbformat": 4,
  "nbformat_minor": 0,
  "metadata": {
    "colab": {
      "provenance": [],
      "collapsed_sections": [
        "XjN6kS1-1MLd"
      ],
      "include_colab_link": true
    },
    "kernelspec": {
      "name": "python3",
      "display_name": "Python 3"
    },
    "language_info": {
      "name": "python"
    }
  },
  "cells": [
    {
      "cell_type": "markdown",
      "metadata": {
        "id": "view-in-github",
        "colab_type": "text"
      },
      "source": [
        "<a href=\"https://colab.research.google.com/github/JinsicLee/jinsic-lee/blob/main/221206_ch01_numpy03.ipynb\" target=\"_parent\"><img src=\"https://colab.research.google.com/assets/colab-badge.svg\" alt=\"Open In Colab\"/></a>"
      ]
    },
    {
      "cell_type": "code",
      "execution_count": null,
      "metadata": {
        "id": "EkxJfq5A0kHF"
      },
      "outputs": [],
      "source": [
        "import numpy as np"
      ]
    },
    {
      "cell_type": "markdown",
      "source": [
        "# 배열의 연산"
      ],
      "metadata": {
        "id": "CXY0lqh71KNh"
      }
    },
    {
      "cell_type": "markdown",
      "source": [
        "### 벡터화 연산 (vectorized operation)\n",
        "* 명시적으로 반복문을 사용하지 않고도 배열의 모든 원소에 대해 반복 연산을 할 수 있음\n",
        "* 선형 대수 공식과 동일한 아주 간단한 파이썬 코드를 작성할 수 있음\n",
        "\n",
        "<br>\n",
        "$$\n",
        "x = \\begin{bmatrix}1\\\\2\\\\3\\\\⋯\\\\10000\\end{bmatrix},\\quad\n",
        "y = \\begin{bmatrix}10001\\\\10002\\\\10003\\\\⋯\\\\20000\\end{bmatrix}\n",
        "$$\n",
        "\n",
        "<br>\n",
        "$$\n",
        "z = x + y\n",
        "$$\n",
        "\n",
        "<br>\n",
        "$$\n",
        "\\begin{bmatrix}1\\\\2\\\\3\\\\⋯\\\\10000\\end{bmatrix}\n",
        "+ \\begin{bmatrix}10001\\\\10002\\\\10003\\\\⋯\\\\20000\\end{bmatrix}\n",
        "= \\begin{bmatrix}1+10001\\\\2+10002\\\\3+10003\\\\⋯\\\\10000+20000\\end{bmatrix}\n",
        "= \\begin{bmatrix}10002\\\\10004\\\\10006\\\\⋯\\\\30000\\end{bmatrix}\n",
        "$$"
      ],
      "metadata": {
        "id": "XjN6kS1-1MLd"
      }
    },
    {
      "cell_type": "code",
      "source": [
        "x = np.arange(1, 10001)\n",
        "y = np.arange(10001, 20001)"
      ],
      "metadata": {
        "id": "-blj9SIU1JJG"
      },
      "execution_count": null,
      "outputs": []
    },
    {
      "cell_type": "code",
      "source": [
        "z = np.zeros_like(x)"
      ],
      "metadata": {
        "id": "8OCQjBeq2xqR"
      },
      "execution_count": null,
      "outputs": []
    },
    {
      "cell_type": "code",
      "source": [
        "%%time\n",
        "# %time %% -> 여러줄 -> 걸리는 시간을 측정\n",
        "for i in range(len(z)):\n",
        "    z[i] = x[i] + y[i]\n",
        "z"
      ],
      "metadata": {
        "colab": {
          "base_uri": "https://localhost:8080/"
        },
        "id": "Q72rVZ-N1FX5",
        "outputId": "60aeca02-0a24-4efc-eaee-a69780486589"
      },
      "execution_count": null,
      "outputs": [
        {
          "output_type": "stream",
          "name": "stdout",
          "text": [
            "CPU times: user 7.28 ms, sys: 0 ns, total: 7.28 ms\n",
            "Wall time: 9.16 ms\n"
          ]
        },
        {
          "output_type": "execute_result",
          "data": {
            "text/plain": [
              "array([10002, 10004, 10006, ..., 29996, 29998, 30000])"
            ]
          },
          "metadata": {},
          "execution_count": 61
        }
      ]
    },
    {
      "cell_type": "code",
      "source": [
        "%%time\n",
        "z = x + y\n",
        "z"
      ],
      "metadata": {
        "colab": {
          "base_uri": "https://localhost:8080/"
        },
        "id": "LzGp9Jjb2jIo",
        "outputId": "78fc307a-949a-4510-e79c-2527d7f354ff"
      },
      "execution_count": null,
      "outputs": [
        {
          "output_type": "stream",
          "name": "stdout",
          "text": [
            "CPU times: user 530 µs, sys: 0 ns, total: 530 µs\n",
            "Wall time: 544 µs\n"
          ]
        },
        {
          "output_type": "execute_result",
          "data": {
            "text/plain": [
              "array([10002, 10004, 10006, ..., 29996, 29998, 30000])"
            ]
          },
          "metadata": {},
          "execution_count": 62
        }
      ]
    },
    {
      "cell_type": "code",
      "source": [
        "# 사칙 연산 뿐만 아니라, 비교/논리 연산 (벡터화 연산)\n",
        "a = np.array([1, 2, 3, 4])\n",
        "b = np.array([4, 2, 2, 4])"
      ],
      "metadata": {
        "id": "XBpva_-M25Ft"
      },
      "execution_count": null,
      "outputs": []
    },
    {
      "cell_type": "code",
      "source": [
        "a == b"
      ],
      "metadata": {
        "colab": {
          "base_uri": "https://localhost:8080/"
        },
        "id": "ptNuYkdv3CJX",
        "outputId": "91347b03-59ec-4552-9245-b00806dab7cb"
      },
      "execution_count": null,
      "outputs": [
        {
          "output_type": "execute_result",
          "data": {
            "text/plain": [
              "array([False,  True, False,  True])"
            ]
          },
          "metadata": {},
          "execution_count": 64
        }
      ]
    },
    {
      "cell_type": "code",
      "source": [
        "a != b"
      ],
      "metadata": {
        "colab": {
          "base_uri": "https://localhost:8080/"
        },
        "id": "XnFPzvcC3Mus",
        "outputId": "b712a615-6ca1-4730-8b15-0e6fb597ecf5"
      },
      "execution_count": null,
      "outputs": [
        {
          "output_type": "execute_result",
          "data": {
            "text/plain": [
              "array([ True, False,  True, False])"
            ]
          },
          "metadata": {},
          "execution_count": 65
        }
      ]
    },
    {
      "cell_type": "code",
      "source": [
        "a >= b"
      ],
      "metadata": {
        "colab": {
          "base_uri": "https://localhost:8080/"
        },
        "id": "-LAZbCby3OM4",
        "outputId": "86e712a6-7732-4e5a-baf2-1c7908b4c501"
      },
      "execution_count": null,
      "outputs": [
        {
          "output_type": "execute_result",
          "data": {
            "text/plain": [
              "array([False,  True,  True,  True])"
            ]
          },
          "metadata": {},
          "execution_count": 66
        }
      ]
    },
    {
      "cell_type": "code",
      "source": [
        "# 배열의 각 원소를 하나씩 비교하는 게 아니라,\n",
        "# 배열의 모든 원소가 같은지 알고 싶다 np.all(조건식)\n",
        "c = np.array([1, 2, 3, 4])\n",
        "a, b, c"
      ],
      "metadata": {
        "colab": {
          "base_uri": "https://localhost:8080/"
        },
        "id": "-pA4qsy73S3I",
        "outputId": "0d57e54d-d2bd-4673-d71b-af99f8ebf7f5"
      },
      "execution_count": null,
      "outputs": [
        {
          "output_type": "execute_result",
          "data": {
            "text/plain": [
              "(array([1, 2, 3, 4]), array([4, 2, 2, 4]), array([1, 2, 3, 4]))"
            ]
          },
          "metadata": {},
          "execution_count": 67
        }
      ]
    },
    {
      "cell_type": "code",
      "source": [
        "np.all(a == b)"
      ],
      "metadata": {
        "colab": {
          "base_uri": "https://localhost:8080/"
        },
        "id": "MnL5MxSx3gC3",
        "outputId": "806c8b82-8de5-46cc-f273-81e8250f6998"
      },
      "execution_count": null,
      "outputs": [
        {
          "output_type": "execute_result",
          "data": {
            "text/plain": [
              "False"
            ]
          },
          "metadata": {},
          "execution_count": 68
        }
      ]
    },
    {
      "cell_type": "code",
      "source": [
        "np.all(a == c)"
      ],
      "metadata": {
        "colab": {
          "base_uri": "https://localhost:8080/"
        },
        "id": "WuY4nM7L3kA_",
        "outputId": "c6291027-81c5-4f43-86be-f6f209068ea8"
      },
      "execution_count": null,
      "outputs": [
        {
          "output_type": "execute_result",
          "data": {
            "text/plain": [
              "True"
            ]
          },
          "metadata": {},
          "execution_count": 69
        }
      ]
    },
    {
      "cell_type": "code",
      "source": [
        "# 배열의 원소 중 하나라도 이 조건을 만족시키는가? np.any(조건식)\n",
        "np.any(a == b)"
      ],
      "metadata": {
        "colab": {
          "base_uri": "https://localhost:8080/"
        },
        "id": "tx6wqkNH3mNS",
        "outputId": "ebab1aa1-0522-4380-ca23-38e87382c345"
      },
      "execution_count": null,
      "outputs": [
        {
          "output_type": "execute_result",
          "data": {
            "text/plain": [
              "True"
            ]
          },
          "metadata": {},
          "execution_count": 70
        }
      ]
    },
    {
      "cell_type": "code",
      "source": [
        "# 지수함수, 로그함수 (수학함수) -> 벡터화 연산\n",
        "a = np.arange(5)\n",
        "a"
      ],
      "metadata": {
        "colab": {
          "base_uri": "https://localhost:8080/"
        },
        "id": "nm9M0svN3xXA",
        "outputId": "bcac0040-6135-47e9-8fef-fa660bf2f95b"
      },
      "execution_count": null,
      "outputs": [
        {
          "output_type": "execute_result",
          "data": {
            "text/plain": [
              "array([0, 1, 2, 3, 4])"
            ]
          },
          "metadata": {},
          "execution_count": 71
        }
      ]
    },
    {
      "cell_type": "code",
      "source": [
        "np.exp(a)"
      ],
      "metadata": {
        "colab": {
          "base_uri": "https://localhost:8080/"
        },
        "id": "oGt2eHOU350n",
        "outputId": "a57943a6-7427-4db5-b9ba-e68b9d3a0c88"
      },
      "execution_count": null,
      "outputs": [
        {
          "output_type": "execute_result",
          "data": {
            "text/plain": [
              "array([ 1.        ,  2.71828183,  7.3890561 , 20.08553692, 54.59815003])"
            ]
          },
          "metadata": {},
          "execution_count": 72
        }
      ]
    },
    {
      "cell_type": "code",
      "source": [
        "np.log(a + 1)"
      ],
      "metadata": {
        "colab": {
          "base_uri": "https://localhost:8080/"
        },
        "id": "br0nZC2N4DQj",
        "outputId": "d05405bd-a625-4f57-c309-0f01b0e33a2f"
      },
      "execution_count": null,
      "outputs": [
        {
          "output_type": "execute_result",
          "data": {
            "text/plain": [
              "array([0.        , 0.69314718, 1.09861229, 1.38629436, 1.60943791])"
            ]
          },
          "metadata": {},
          "execution_count": 73
        }
      ]
    },
    {
      "cell_type": "code",
      "source": [
        "10 ** a"
      ],
      "metadata": {
        "colab": {
          "base_uri": "https://localhost:8080/"
        },
        "id": "TN1YZTBD4IKs",
        "outputId": "7450f75e-bb4a-40f8-d186-9a7304f01fbe"
      },
      "execution_count": null,
      "outputs": [
        {
          "output_type": "execute_result",
          "data": {
            "text/plain": [
              "array([    1,    10,   100,  1000, 10000])"
            ]
          },
          "metadata": {},
          "execution_count": 74
        }
      ]
    },
    {
      "cell_type": "markdown",
      "source": [
        "## 스칼라와 벡터/행렬의 곱셉"
      ],
      "metadata": {
        "id": "qBnnIxCJ4OjY"
      }
    },
    {
      "cell_type": "code",
      "source": [
        "x = np.arange(10)\n",
        "x # 1차원 배열"
      ],
      "metadata": {
        "colab": {
          "base_uri": "https://localhost:8080/"
        },
        "id": "Eq1yz75r4ZUq",
        "outputId": "397be499-2ef3-4e2e-ace4-50bf43da24c0"
      },
      "execution_count": null,
      "outputs": [
        {
          "output_type": "execute_result",
          "data": {
            "text/plain": [
              "array([0, 1, 2, 3, 4, 5, 6, 7, 8, 9])"
            ]
          },
          "metadata": {},
          "execution_count": 75
        }
      ]
    },
    {
      "cell_type": "code",
      "source": [
        "100 * x"
      ],
      "metadata": {
        "colab": {
          "base_uri": "https://localhost:8080/"
        },
        "id": "vJlo7vG54pRn",
        "outputId": "f4b8de3d-771e-40b9-b29d-dc0e3445378f"
      },
      "execution_count": null,
      "outputs": [
        {
          "output_type": "execute_result",
          "data": {
            "text/plain": [
              "array([  0, 100, 200, 300, 400, 500, 600, 700, 800, 900])"
            ]
          },
          "metadata": {},
          "execution_count": 76
        }
      ]
    },
    {
      "cell_type": "code",
      "source": [
        "x = np.arange(12).reshape(3, -1)\n",
        "x # 2차원 행렬"
      ],
      "metadata": {
        "colab": {
          "base_uri": "https://localhost:8080/"
        },
        "id": "ZqtxWKtq4yfw",
        "outputId": "34ea4317-3dce-4fb5-8a5a-c81d6bcac787"
      },
      "execution_count": null,
      "outputs": [
        {
          "output_type": "execute_result",
          "data": {
            "text/plain": [
              "array([[ 0,  1,  2,  3],\n",
              "       [ 4,  5,  6,  7],\n",
              "       [ 8,  9, 10, 11]])"
            ]
          },
          "metadata": {},
          "execution_count": 77
        }
      ]
    },
    {
      "cell_type": "code",
      "source": [
        "100 * x"
      ],
      "metadata": {
        "colab": {
          "base_uri": "https://localhost:8080/"
        },
        "id": "GeQUzmoO418I",
        "outputId": "23e9f209-749d-4ec7-cd49-ceebeea2b28e"
      },
      "execution_count": null,
      "outputs": [
        {
          "output_type": "execute_result",
          "data": {
            "text/plain": [
              "array([[   0,  100,  200,  300],\n",
              "       [ 400,  500,  600,  700],\n",
              "       [ 800,  900, 1000, 1100]])"
            ]
          },
          "metadata": {},
          "execution_count": 78
        }
      ]
    },
    {
      "cell_type": "markdown",
      "source": [
        "## 브로드캐스팅\n",
        "* 벡터(또는 행렬)끼리 덧셈과 뺄셈... -> 두 벡터(또는 행령) 간의 크기가 일치\n",
        "* Numpy에선 서로 다른 크기를 가진 두 배열의 사칙 연산을 지원 = 브로드캐스팅(broadcasting)\n",
        "> 크기가 작은 배열을 자동으로 반복 확장하여 크기가 큰 배열에 맞춤\n",
        "\n",
        "<br>\n",
        "$$\n",
        "x = \\begin{bmatrix}0\\\\1\\\\2\\\\3\\\\4\\end{bmatrix},\\quad \n",
        "x + 1 = \\begin{bmatrix}0\\\\1\\\\2\\\\3\\\\4\\end{bmatrix} + 1 = ?\n",
        "$$\n",
        "<br>\n",
        "$$\n",
        "\\begin{bmatrix}0\\\\1\\\\2\\\\3\\\\4\\end{bmatrix} + 1\n",
        "= \\begin{bmatrix}0\\\\1\\\\2\\\\3\\\\4\\end{bmatrix}\n",
        "+ \\begin{bmatrix}1\\\\1\\\\1\\\\1\\\\1\\end{bmatrix}\n",
        "= \\begin{bmatrix}1\\\\2\\\\3\\\\4\\\\5\\end{bmatrix}\n",
        "$$"
      ],
      "metadata": {
        "id": "Y-I9QnBV5B-L"
      }
    },
    {
      "cell_type": "code",
      "source": [
        "x = np.arange(5) # [0...4] (5,)\n",
        "y = np.ones_like(x) # [1...1] (5,)\n",
        "x + y # [1...6] (5,)\n",
        "x + 1"
      ],
      "metadata": {
        "colab": {
          "base_uri": "https://localhost:8080/"
        },
        "id": "KMXolDWn449P",
        "outputId": "8eb17d76-9ebc-444e-d9f3-8592d544e47d"
      },
      "execution_count": null,
      "outputs": [
        {
          "output_type": "execute_result",
          "data": {
            "text/plain": [
              "array([1, 2, 3, 4, 5])"
            ]
          },
          "metadata": {},
          "execution_count": 79
        }
      ]
    },
    {
      "cell_type": "code",
      "source": [
        "# 2차원 이상 -> 브로드캐스팅 된다\n",
        "x = np.vstack([range(7)[i:i+3] for i in range(5)])\n",
        "# 0-6 (0:3, 1:4...)\n",
        "x, x.shape"
      ],
      "metadata": {
        "colab": {
          "base_uri": "https://localhost:8080/"
        },
        "id": "t6VIsUK56Kwg",
        "outputId": "359a5418-9fd8-42e1-b357-a56744dff9e8"
      },
      "execution_count": null,
      "outputs": [
        {
          "output_type": "execute_result",
          "data": {
            "text/plain": [
              "(array([[0, 1, 2],\n",
              "        [1, 2, 3],\n",
              "        [2, 3, 4],\n",
              "        [3, 4, 5],\n",
              "        [4, 5, 6]]), (5, 3))"
            ]
          },
          "metadata": {},
          "execution_count": 80
        }
      ]
    },
    {
      "cell_type": "code",
      "source": [
        "y = np.arange(5)[:, np.newaxis]\n",
        "y, y.shape"
      ],
      "metadata": {
        "colab": {
          "base_uri": "https://localhost:8080/"
        },
        "id": "3A6-_Yd46XRQ",
        "outputId": "13831a93-8700-46c1-e833-f421fc472f8a"
      },
      "execution_count": null,
      "outputs": [
        {
          "output_type": "execute_result",
          "data": {
            "text/plain": [
              "(array([[0],\n",
              "        [1],\n",
              "        [2],\n",
              "        [3],\n",
              "        [4]]), (5, 1))"
            ]
          },
          "metadata": {},
          "execution_count": 81
        }
      ]
    },
    {
      "cell_type": "code",
      "source": [
        "x + y"
      ],
      "metadata": {
        "colab": {
          "base_uri": "https://localhost:8080/"
        },
        "id": "DE_ToMmG6_Kg",
        "outputId": "95cb6961-6443-43c6-cded-6e259ea4a8a8"
      },
      "execution_count": null,
      "outputs": [
        {
          "output_type": "execute_result",
          "data": {
            "text/plain": [
              "array([[ 0,  1,  2],\n",
              "       [ 2,  3,  4],\n",
              "       [ 4,  5,  6],\n",
              "       [ 6,  7,  8],\n",
              "       [ 8,  9, 10]])"
            ]
          },
          "metadata": {},
          "execution_count": 82
        }
      ]
    },
    {
      "cell_type": "code",
      "source": [
        "y = np.arange(3)\n",
        "y, y.shape"
      ],
      "metadata": {
        "colab": {
          "base_uri": "https://localhost:8080/"
        },
        "id": "roY-sjwG7J40",
        "outputId": "514aa651-4dd5-4fdc-c422-75b93bf84ba0"
      },
      "execution_count": null,
      "outputs": [
        {
          "output_type": "execute_result",
          "data": {
            "text/plain": [
              "(array([0, 1, 2]), (3,))"
            ]
          },
          "metadata": {},
          "execution_count": 83
        }
      ]
    },
    {
      "cell_type": "code",
      "source": [
        "x + y"
      ],
      "metadata": {
        "colab": {
          "base_uri": "https://localhost:8080/"
        },
        "id": "Z1NUolOR7O4k",
        "outputId": "a434f96c-9463-4c68-d92f-3adf852dc4b5"
      },
      "execution_count": null,
      "outputs": [
        {
          "output_type": "execute_result",
          "data": {
            "text/plain": [
              "array([[0, 2, 4],\n",
              "       [1, 3, 5],\n",
              "       [2, 4, 6],\n",
              "       [3, 5, 7],\n",
              "       [4, 6, 8]])"
            ]
          },
          "metadata": {},
          "execution_count": 84
        }
      ]
    },
    {
      "cell_type": "markdown",
      "source": [
        "## 차원 축소 연산\n",
        "* 행렬의 **하나의 행에 있는 원소들**을 하나의 데이터 집합으로 보고, 각 행에 처리된 연산으로 한 차원 낮은 벡터를 구성하게 하는 연산"
      ],
      "metadata": {
        "id": "GstSnYkK7cYW"
      }
    },
    {
      "cell_type": "markdown",
      "source": [
        "### sum : 합계"
      ],
      "metadata": {
        "id": "64FSb4Sy73qc"
      }
    },
    {
      "cell_type": "code",
      "source": [
        "x = np.arange(1, 5)\n",
        "x"
      ],
      "metadata": {
        "colab": {
          "base_uri": "https://localhost:8080/"
        },
        "id": "Dvley6H77kQB",
        "outputId": "053d896f-5251-4156-cda0-49431f2f4c87"
      },
      "execution_count": null,
      "outputs": [
        {
          "output_type": "execute_result",
          "data": {
            "text/plain": [
              "array([1, 2, 3, 4])"
            ]
          },
          "metadata": {},
          "execution_count": 85
        }
      ]
    },
    {
      "cell_type": "code",
      "source": [
        "np.sum(x), x.sum() # arr.sum()"
      ],
      "metadata": {
        "colab": {
          "base_uri": "https://localhost:8080/"
        },
        "id": "XKT9aAlx7_l3",
        "outputId": "de215ee0-ba8d-418f-955c-adabe55cab10"
      },
      "execution_count": null,
      "outputs": [
        {
          "output_type": "execute_result",
          "data": {
            "text/plain": [
              "(10, 10)"
            ]
          },
          "metadata": {},
          "execution_count": 86
        }
      ]
    },
    {
      "cell_type": "markdown",
      "source": [
        "### min, max : 최소, 최대"
      ],
      "metadata": {
        "id": "io8_En-k8HI-"
      }
    },
    {
      "cell_type": "code",
      "source": [
        "x = np.array([1, 3, 2])\n",
        "x"
      ],
      "metadata": {
        "colab": {
          "base_uri": "https://localhost:8080/"
        },
        "id": "8sW5i6Ht8J5c",
        "outputId": "b350bb01-c8d5-43a6-fa1f-55590fdc56fb"
      },
      "execution_count": null,
      "outputs": [
        {
          "output_type": "execute_result",
          "data": {
            "text/plain": [
              "array([1, 3, 2])"
            ]
          },
          "metadata": {},
          "execution_count": 87
        }
      ]
    },
    {
      "cell_type": "code",
      "source": [
        "x.min(), x.max()"
      ],
      "metadata": {
        "colab": {
          "base_uri": "https://localhost:8080/"
        },
        "id": "__SJgzOy8N7n",
        "outputId": "48c24727-4754-465e-ecbf-14a24fb47218"
      },
      "execution_count": null,
      "outputs": [
        {
          "output_type": "execute_result",
          "data": {
            "text/plain": [
              "(1, 3)"
            ]
          },
          "metadata": {},
          "execution_count": 88
        }
      ]
    },
    {
      "cell_type": "code",
      "source": [
        "np.min(x), np.max(x)"
      ],
      "metadata": {
        "colab": {
          "base_uri": "https://localhost:8080/"
        },
        "id": "p-8wguY78SpI",
        "outputId": "1c25a893-8a7a-48e5-dade-47c629f84a71"
      },
      "execution_count": null,
      "outputs": [
        {
          "output_type": "execute_result",
          "data": {
            "text/plain": [
              "(1, 3)"
            ]
          },
          "metadata": {},
          "execution_count": 89
        }
      ]
    },
    {
      "cell_type": "code",
      "source": [
        "x.argmin() # 최솟값의 위치"
      ],
      "metadata": {
        "colab": {
          "base_uri": "https://localhost:8080/"
        },
        "id": "nl397aA_8PjQ",
        "outputId": "2b7c3484-3926-4eb6-aa2e-b608bdd61efc"
      },
      "execution_count": null,
      "outputs": [
        {
          "output_type": "execute_result",
          "data": {
            "text/plain": [
              "0"
            ]
          },
          "metadata": {},
          "execution_count": 90
        }
      ]
    },
    {
      "cell_type": "code",
      "source": [
        "x.argmax() # 최댓값의 위치"
      ],
      "metadata": {
        "colab": {
          "base_uri": "https://localhost:8080/"
        },
        "id": "oLfFVnfP8iBA",
        "outputId": "eea7126e-fc43-4548-c3ab-0f52db2da435"
      },
      "execution_count": null,
      "outputs": [
        {
          "output_type": "execute_result",
          "data": {
            "text/plain": [
              "1"
            ]
          },
          "metadata": {},
          "execution_count": 91
        }
      ]
    },
    {
      "cell_type": "markdown",
      "source": [
        "### 통계 (mean, median...)"
      ],
      "metadata": {
        "id": "_LnZFtwF8uDv"
      }
    },
    {
      "cell_type": "code",
      "source": [
        "x = np.array([1, 2, 3, 1])"
      ],
      "metadata": {
        "id": "58cTYsNb81M9"
      },
      "execution_count": null,
      "outputs": []
    },
    {
      "cell_type": "code",
      "source": [
        "# x.mean()\n",
        "np.mean(x) # 평균"
      ],
      "metadata": {
        "colab": {
          "base_uri": "https://localhost:8080/"
        },
        "id": "nX_1Aevo83yH",
        "outputId": "dfc98111-5ff1-4d5b-eca1-efad7e7bae46"
      },
      "execution_count": null,
      "outputs": [
        {
          "output_type": "execute_result",
          "data": {
            "text/plain": [
              "1.75"
            ]
          },
          "metadata": {},
          "execution_count": 93
        }
      ]
    },
    {
      "cell_type": "code",
      "source": [
        "np.median(x) # 중간값"
      ],
      "metadata": {
        "colab": {
          "base_uri": "https://localhost:8080/"
        },
        "id": "uU4NFfjH85wG",
        "outputId": "c7792916-64d3-4d5c-fc22-f822047ad9e2"
      },
      "execution_count": null,
      "outputs": [
        {
          "output_type": "execute_result",
          "data": {
            "text/plain": [
              "1.5"
            ]
          },
          "metadata": {},
          "execution_count": 94
        }
      ]
    },
    {
      "cell_type": "markdown",
      "source": [
        "### 불리언 (any, all)"
      ],
      "metadata": {
        "id": "hElJUAmU9ThA"
      }
    },
    {
      "cell_type": "code",
      "source": [
        "np.all([True, True, False]) # 모두가 True인지"
      ],
      "metadata": {
        "colab": {
          "base_uri": "https://localhost:8080/"
        },
        "id": "qObR6Xm89H4p",
        "outputId": "79ea47af-ed4a-453e-cd84-1c9388ab673a"
      },
      "execution_count": null,
      "outputs": [
        {
          "output_type": "execute_result",
          "data": {
            "text/plain": [
              "False"
            ]
          },
          "metadata": {},
          "execution_count": 95
        }
      ]
    },
    {
      "cell_type": "code",
      "source": [
        "np.any([True, False, False]) # 뭐라도 하나가 True인지"
      ],
      "metadata": {
        "colab": {
          "base_uri": "https://localhost:8080/"
        },
        "id": "WQA5qfe39O3w",
        "outputId": "a9398725-7c79-4f93-ed05-438155b9a00d"
      },
      "execution_count": null,
      "outputs": [
        {
          "output_type": "execute_result",
          "data": {
            "text/plain": [
              "True"
            ]
          },
          "metadata": {},
          "execution_count": 96
        }
      ]
    },
    {
      "cell_type": "markdown",
      "source": [
        "* 2차원 이상에서의 차원축소연산은?\n",
        "* 어느 차원으로 계산을 할지 axis 인수를 사용해서 지시\n",
        "* axis=0인 경우에는 열 연산, axis=1인 경우는 행 연산\n",
        "* axis 인수는 대부분의 차원 축소 명령에 적용할 수 있음"
      ],
      "metadata": {
        "id": "rT5E7WEA9fZJ"
      }
    },
    {
      "cell_type": "code",
      "source": [
        "x = np.array([[1, 1], [2, 2]])\n",
        "x"
      ],
      "metadata": {
        "colab": {
          "base_uri": "https://localhost:8080/"
        },
        "id": "qemRoJ329SWe",
        "outputId": "b1c71285-1d1a-42d2-d6d7-d42770626959"
      },
      "execution_count": null,
      "outputs": [
        {
          "output_type": "execute_result",
          "data": {
            "text/plain": [
              "array([[1, 1],\n",
              "       [2, 2]])"
            ]
          },
          "metadata": {},
          "execution_count": 97
        }
      ]
    },
    {
      "cell_type": "code",
      "source": [
        "x.sum()"
      ],
      "metadata": {
        "colab": {
          "base_uri": "https://localhost:8080/"
        },
        "id": "VyvI06fC9xJw",
        "outputId": "d032e54c-4b21-4904-e14a-252491e4d394"
      },
      "execution_count": null,
      "outputs": [
        {
          "output_type": "execute_result",
          "data": {
            "text/plain": [
              "6"
            ]
          },
          "metadata": {},
          "execution_count": 98
        }
      ]
    },
    {
      "cell_type": "code",
      "source": [
        "x.sum(axis=0)"
      ],
      "metadata": {
        "colab": {
          "base_uri": "https://localhost:8080/"
        },
        "id": "a07ookh594HE",
        "outputId": "2c0b688b-53e8-44ab-a143-060f0899a520"
      },
      "execution_count": null,
      "outputs": [
        {
          "output_type": "execute_result",
          "data": {
            "text/plain": [
              "array([3, 3])"
            ]
          },
          "metadata": {},
          "execution_count": 99
        }
      ]
    },
    {
      "cell_type": "code",
      "source": [
        "x.sum(axis=1)"
      ],
      "metadata": {
        "colab": {
          "base_uri": "https://localhost:8080/"
        },
        "id": "VvEWy5XC-HG3",
        "outputId": "5f8d3ae7-5c79-4c7c-bf03-86bd3a52f848"
      },
      "execution_count": null,
      "outputs": [
        {
          "output_type": "execute_result",
          "data": {
            "text/plain": [
              "array([2, 4])"
            ]
          },
          "metadata": {},
          "execution_count": 100
        }
      ]
    },
    {
      "cell_type": "code",
      "source": [
        "y = np.array([[1, 1, 1], [2, 2, 2]])\n",
        "y"
      ],
      "metadata": {
        "colab": {
          "base_uri": "https://localhost:8080/"
        },
        "id": "tUQK_rzJC6Kb",
        "outputId": "d9b08092-676a-4ec5-8a46-cc47bfa18696"
      },
      "execution_count": null,
      "outputs": [
        {
          "output_type": "execute_result",
          "data": {
            "text/plain": [
              "array([[1, 1, 1],\n",
              "       [2, 2, 2]])"
            ]
          },
          "metadata": {},
          "execution_count": 101
        }
      ]
    },
    {
      "cell_type": "code",
      "source": [
        "y.sum(axis=0)"
      ],
      "metadata": {
        "colab": {
          "base_uri": "https://localhost:8080/"
        },
        "id": "n9GkMlWxC8Jg",
        "outputId": "6621ff8d-72c1-4f6e-8ff1-865a35afbce3"
      },
      "execution_count": null,
      "outputs": [
        {
          "output_type": "execute_result",
          "data": {
            "text/plain": [
              "array([3, 3, 3])"
            ]
          },
          "metadata": {},
          "execution_count": 102
        }
      ]
    },
    {
      "cell_type": "code",
      "source": [
        "y.sum(axis=1)"
      ],
      "metadata": {
        "colab": {
          "base_uri": "https://localhost:8080/"
        },
        "id": "XCvTJcBrC91G",
        "outputId": "bc93d4fa-8866-41e7-9fec-b62325e4a9c8"
      },
      "execution_count": null,
      "outputs": [
        {
          "output_type": "execute_result",
          "data": {
            "text/plain": [
              "array([3, 6])"
            ]
          },
          "metadata": {},
          "execution_count": 103
        }
      ]
    },
    {
      "cell_type": "markdown",
      "source": [
        "## ⚓ 연습문제 1\n",
        "실수로 이루어진 5 x 6 형태의 데이터 행렬을 만들고 이 데이터에 대해 다음과 같은 값 도출\n",
        "1. 전체의 최댓값\n",
        "2. 각 행의 합\n",
        "3. 각 행의 최댓값\n",
        "4. 각 열의 평균\n",
        "5. 각 열의 최솟값"
      ],
      "metadata": {
        "id": "I8ZiJ_sv-O0c"
      }
    },
    {
      "cell_type": "code",
      "source": [
        "a = np.linspace(10, 100, 30).reshape((5, 6))\n",
        "a"
      ],
      "metadata": {
        "colab": {
          "base_uri": "https://localhost:8080/"
        },
        "id": "PpjSOIYQ-Ona",
        "outputId": "c26b4d82-b7b1-4306-c5d0-745029220d9f"
      },
      "execution_count": null,
      "outputs": [
        {
          "output_type": "execute_result",
          "data": {
            "text/plain": [
              "array([[ 10.        ,  13.10344828,  16.20689655,  19.31034483,\n",
              "         22.4137931 ,  25.51724138],\n",
              "       [ 28.62068966,  31.72413793,  34.82758621,  37.93103448,\n",
              "         41.03448276,  44.13793103],\n",
              "       [ 47.24137931,  50.34482759,  53.44827586,  56.55172414,\n",
              "         59.65517241,  62.75862069],\n",
              "       [ 65.86206897,  68.96551724,  72.06896552,  75.17241379,\n",
              "         78.27586207,  81.37931034],\n",
              "       [ 84.48275862,  87.5862069 ,  90.68965517,  93.79310345,\n",
              "         96.89655172, 100.        ]])"
            ]
          },
          "metadata": {},
          "execution_count": 104
        }
      ]
    },
    {
      "cell_type": "code",
      "source": [
        "# 전체의 최댓값\n",
        "a.max()"
      ],
      "metadata": {
        "colab": {
          "base_uri": "https://localhost:8080/"
        },
        "id": "EGQd1PHaFS9L",
        "outputId": "3440113e-c50c-4e5f-ebc8-d2811c763e91"
      },
      "execution_count": null,
      "outputs": [
        {
          "output_type": "execute_result",
          "data": {
            "text/plain": [
              "100.0"
            ]
          },
          "metadata": {},
          "execution_count": 105
        }
      ]
    },
    {
      "cell_type": "code",
      "source": [
        "# 각 행의 합계 => axis=1\n",
        "a.sum(axis=1)"
      ],
      "metadata": {
        "colab": {
          "base_uri": "https://localhost:8080/"
        },
        "id": "RsSgYlPeFVuQ",
        "outputId": "2fad297c-dd48-40fa-9d2e-f94e6768bedd"
      },
      "execution_count": null,
      "outputs": [
        {
          "output_type": "execute_result",
          "data": {
            "text/plain": [
              "array([106.55172414, 218.27586207, 330.        , 441.72413793,\n",
              "       553.44827586])"
            ]
          },
          "metadata": {},
          "execution_count": 106
        }
      ]
    },
    {
      "cell_type": "code",
      "source": [
        "# 각 행의 최댓값 => axis=1\n",
        "a.max(axis=1)"
      ],
      "metadata": {
        "colab": {
          "base_uri": "https://localhost:8080/"
        },
        "id": "8sjP5mDSFeP6",
        "outputId": "f4b83595-ed57-4b98-a158-38a3b1680c2f"
      },
      "execution_count": null,
      "outputs": [
        {
          "output_type": "execute_result",
          "data": {
            "text/plain": [
              "array([ 25.51724138,  44.13793103,  62.75862069,  81.37931034,\n",
              "       100.        ])"
            ]
          },
          "metadata": {},
          "execution_count": 107
        }
      ]
    },
    {
      "cell_type": "code",
      "source": [
        "# 각 열의 평균 => axis=0\n",
        "a.mean(axis=0)"
      ],
      "metadata": {
        "colab": {
          "base_uri": "https://localhost:8080/"
        },
        "id": "k5usfDo9FiG3",
        "outputId": "945beb56-feb2-4d92-bbde-c7a34c078a7f"
      },
      "execution_count": null,
      "outputs": [
        {
          "output_type": "execute_result",
          "data": {
            "text/plain": [
              "array([47.24137931, 50.34482759, 53.44827586, 56.55172414, 59.65517241,\n",
              "       62.75862069])"
            ]
          },
          "metadata": {},
          "execution_count": 108
        }
      ]
    },
    {
      "cell_type": "code",
      "source": [
        "# 각 열의 최솟값\n",
        "a.min(axis=0)"
      ],
      "metadata": {
        "colab": {
          "base_uri": "https://localhost:8080/"
        },
        "id": "uI5i93dvFnpL",
        "outputId": "1cd54825-8c96-40d0-c8d2-7705ac74b7a2"
      },
      "execution_count": null,
      "outputs": [
        {
          "output_type": "execute_result",
          "data": {
            "text/plain": [
              "array([10.        , 13.10344828, 16.20689655, 19.31034483, 22.4137931 ,\n",
              "       25.51724138])"
            ]
          },
          "metadata": {},
          "execution_count": 109
        }
      ]
    },
    {
      "cell_type": "markdown",
      "source": [
        "## 정렬\n",
        "* `np.sort` : 배열 안의 원소를 크기에 따라 정렬하여 새로운 배열 생성\n",
        "* 2차원 이상인 경우 -> 행이나 열을 따로따로 정렬\n",
        "    * axis=0 : 각각의 행을 따로따로 정렬\n",
        "    * axis=1 : 각각의 열을 따로따로 정렬\n",
        "    * axis=-1 : 가장 안쪽(나중)의 차원"
      ],
      "metadata": {
        "id": "w4C-s3uuFwgN"
      }
    },
    {
      "cell_type": "code",
      "source": [
        "a = np.array([\n",
        "    [4, 3, 5, 7],\n",
        "    [1, 12, 11, 9],\n",
        "    [2, 15, 1, 14]\n",
        "])\n",
        "a"
      ],
      "metadata": {
        "colab": {
          "base_uri": "https://localhost:8080/"
        },
        "id": "9g_DN6JpFqWn",
        "outputId": "e0a0e994-9c57-4fa5-f66a-61e813d03308"
      },
      "execution_count": null,
      "outputs": [
        {
          "output_type": "execute_result",
          "data": {
            "text/plain": [
              "array([[ 4,  3,  5,  7],\n",
              "       [ 1, 12, 11,  9],\n",
              "       [ 2, 15,  1, 14]])"
            ]
          },
          "metadata": {},
          "execution_count": 110
        }
      ]
    },
    {
      "cell_type": "code",
      "source": [
        "np.sort(a, axis=0)"
      ],
      "metadata": {
        "colab": {
          "base_uri": "https://localhost:8080/"
        },
        "id": "1lUhz0BuG0Wq",
        "outputId": "6238f29d-6b9b-4063-b65e-8cfce5567b6b"
      },
      "execution_count": null,
      "outputs": [
        {
          "output_type": "execute_result",
          "data": {
            "text/plain": [
              "array([[ 1,  3,  1,  7],\n",
              "       [ 2, 12,  5,  9],\n",
              "       [ 4, 15, 11, 14]])"
            ]
          },
          "metadata": {},
          "execution_count": 111
        }
      ]
    },
    {
      "cell_type": "code",
      "source": [
        "np.sort(a, axis=1)"
      ],
      "metadata": {
        "colab": {
          "base_uri": "https://localhost:8080/"
        },
        "id": "U4c0KkbdG2C4",
        "outputId": "bc27286c-c286-420e-e470-2b32facde36c"
      },
      "execution_count": null,
      "outputs": [
        {
          "output_type": "execute_result",
          "data": {
            "text/plain": [
              "array([[ 3,  4,  5,  7],\n",
              "       [ 1,  9, 11, 12],\n",
              "       [ 1,  2, 14, 15]])"
            ]
          },
          "metadata": {},
          "execution_count": 112
        }
      ]
    },
    {
      "cell_type": "code",
      "source": [
        "np.sort(a, axis=-1)"
      ],
      "metadata": {
        "colab": {
          "base_uri": "https://localhost:8080/"
        },
        "id": "RCBFX2-lHLt3",
        "outputId": "6128ee61-b426-451e-8441-816b7e5108ba"
      },
      "execution_count": null,
      "outputs": [
        {
          "output_type": "execute_result",
          "data": {
            "text/plain": [
              "array([[ 3,  4,  5,  7],\n",
              "       [ 1,  9, 11, 12],\n",
              "       [ 1,  2, 14, 15]])"
            ]
          },
          "metadata": {},
          "execution_count": 113
        }
      ]
    },
    {
      "cell_type": "code",
      "source": [
        "np.sort(a) # axis=-1, axis=1 -> 2차원 배열, 행렬"
      ],
      "metadata": {
        "colab": {
          "base_uri": "https://localhost:8080/"
        },
        "id": "OiCT4ExIGcyS",
        "outputId": "9a90cba5-3b1e-47f5-9479-0b5d0a7937d7"
      },
      "execution_count": null,
      "outputs": [
        {
          "output_type": "execute_result",
          "data": {
            "text/plain": [
              "array([[ 3,  4,  5,  7],\n",
              "       [ 1,  9, 11, 12],\n",
              "       [ 1,  2, 14, 15]])"
            ]
          },
          "metadata": {},
          "execution_count": 114
        }
      ]
    },
    {
      "cell_type": "code",
      "source": [
        "a # np.sort 는 원본에 영향 X, 깊은 복사"
      ],
      "metadata": {
        "colab": {
          "base_uri": "https://localhost:8080/"
        },
        "id": "asIhpzzaHCYF",
        "outputId": "eb7ed2d5-b21a-40d6-d62a-1166bf2e8c3d"
      },
      "execution_count": null,
      "outputs": [
        {
          "output_type": "execute_result",
          "data": {
            "text/plain": [
              "array([[ 4,  3,  5,  7],\n",
              "       [ 1, 12, 11,  9],\n",
              "       [ 2, 15,  1, 14]])"
            ]
          },
          "metadata": {},
          "execution_count": 115
        }
      ]
    },
    {
      "cell_type": "code",
      "source": [
        "b = a.copy()\n",
        "b"
      ],
      "metadata": {
        "colab": {
          "base_uri": "https://localhost:8080/"
        },
        "id": "ftKNynAfHkv_",
        "outputId": "9402981f-2d1c-4445-f12d-1bb10fd1d12d"
      },
      "execution_count": null,
      "outputs": [
        {
          "output_type": "execute_result",
          "data": {
            "text/plain": [
              "array([[ 4,  3,  5,  7],\n",
              "       [ 1, 12, 11,  9],\n",
              "       [ 2, 15,  1, 14]])"
            ]
          },
          "metadata": {},
          "execution_count": 116
        }
      ]
    },
    {
      "cell_type": "code",
      "source": [
        "b.sort() # arr.sort()를 사용할 경우, 해당 arr의 상태가 변화\n",
        "# -> 자체변화 메소드(in-place) = 원본이 수정\n",
        "b"
      ],
      "metadata": {
        "colab": {
          "base_uri": "https://localhost:8080/"
        },
        "id": "vL5ghZBgHifo",
        "outputId": "31b96db6-f4ea-4fcd-d25e-4ebc559d4aa7"
      },
      "execution_count": null,
      "outputs": [
        {
          "output_type": "execute_result",
          "data": {
            "text/plain": [
              "array([[ 3,  4,  5,  7],\n",
              "       [ 1,  9, 11, 12],\n",
              "       [ 1,  2, 14, 15]])"
            ]
          },
          "metadata": {},
          "execution_count": 117
        }
      ]
    },
    {
      "cell_type": "code",
      "source": [
        "b.sort(axis=1)\n",
        "b"
      ],
      "metadata": {
        "colab": {
          "base_uri": "https://localhost:8080/"
        },
        "id": "PrrHuvK4HrsI",
        "outputId": "2115e8b3-3321-4ed8-98fe-780eb40bd74b"
      },
      "execution_count": null,
      "outputs": [
        {
          "output_type": "execute_result",
          "data": {
            "text/plain": [
              "array([[ 3,  4,  5,  7],\n",
              "       [ 1,  9, 11, 12],\n",
              "       [ 1,  2, 14, 15]])"
            ]
          },
          "metadata": {},
          "execution_count": 118
        }
      ]
    },
    {
      "cell_type": "markdown",
      "source": [
        "* `argsort` : 자료 정렬이 아니라 순서만 알고 싶다"
      ],
      "metadata": {
        "id": "XK1it_M6H_TF"
      }
    },
    {
      "cell_type": "code",
      "source": [
        "#              0, 1,  2,  3\n",
        "a = np.array([42, 38, 12, 25])\n",
        "j = np.argsort(a) # 오름차순\n",
        "j\n",
        "# 오름차순 : 작은 -> 큰 값으로 (데이터가 전개된 방향 일치하게 커진다, asc)\n",
        "# 내림차순 : 큰 -> 작은 (데이터가 전개되는 방향으로 작아진다 = 가장 큰 값이 맨 앞에 있다, desc)"
      ],
      "metadata": {
        "colab": {
          "base_uri": "https://localhost:8080/"
        },
        "id": "AA4ohPBNH-MA",
        "outputId": "1d787738-d697-4d12-d3f4-aa51c31a686c"
      },
      "execution_count": null,
      "outputs": [
        {
          "output_type": "execute_result",
          "data": {
            "text/plain": [
              "array([2, 3, 1, 0])"
            ]
          },
          "metadata": {},
          "execution_count": 119
        }
      ]
    },
    {
      "cell_type": "code",
      "source": [
        "a[j] # 정수 배열 인덱싱"
      ],
      "metadata": {
        "colab": {
          "base_uri": "https://localhost:8080/"
        },
        "id": "IWf6Wu0AIwoQ",
        "outputId": "e1dc843d-c184-41c6-96f1-215cde5ce892"
      },
      "execution_count": null,
      "outputs": [
        {
          "output_type": "execute_result",
          "data": {
            "text/plain": [
              "array([12, 25, 38, 42])"
            ]
          },
          "metadata": {},
          "execution_count": 120
        }
      ]
    },
    {
      "cell_type": "markdown",
      "source": [
        "## ⚓ 연습문제 2\n",
        "> 두 번째 행을 기준으로 각 열(column)을 재정렬\n",
        "```\n",
        "array([[  1,    2,    3,    4],\n",
        "       [ 46,   99,  100,   71],\n",
        "       [ 81,   59,   90,  100]])\n",
        "```"
      ],
      "metadata": {
        "id": "dyf7sXv5I8Da"
      }
    },
    {
      "cell_type": "code",
      "source": [
        "x = np.array([\n",
        "    [1, 2, 3, 4],\n",
        "    [46, 99, 100, 71],\n",
        "    [81, 59, 90, 100]\n",
        "])\n",
        "x"
      ],
      "metadata": {
        "colab": {
          "base_uri": "https://localhost:8080/"
        },
        "id": "v7nM_TdbJWkG",
        "outputId": "8d53f294-1fae-409f-cd8d-df7a50744a2c"
      },
      "execution_count": null,
      "outputs": [
        {
          "output_type": "execute_result",
          "data": {
            "text/plain": [
              "array([[  1,   2,   3,   4],\n",
              "       [ 46,  99, 100,  71],\n",
              "       [ 81,  59,  90, 100]])"
            ]
          },
          "metadata": {},
          "execution_count": 121
        }
      ]
    },
    {
      "cell_type": "code",
      "source": [
        "x[1]"
      ],
      "metadata": {
        "colab": {
          "base_uri": "https://localhost:8080/"
        },
        "id": "vlspOfdCJarW",
        "outputId": "34eccce3-a8fe-4ada-cc43-2aad8b822bc3"
      },
      "execution_count": null,
      "outputs": [
        {
          "output_type": "execute_result",
          "data": {
            "text/plain": [
              "array([ 46,  99, 100,  71])"
            ]
          },
          "metadata": {},
          "execution_count": 122
        }
      ]
    },
    {
      "cell_type": "code",
      "source": [
        "np.argsort(x[1]) # = 열들의 인덱스"
      ],
      "metadata": {
        "colab": {
          "base_uri": "https://localhost:8080/"
        },
        "id": "E7mrYg4zJeVq",
        "outputId": "e5bf96ea-cbe3-4aac-989f-edc06adc07af"
      },
      "execution_count": null,
      "outputs": [
        {
          "output_type": "execute_result",
          "data": {
            "text/plain": [
              "array([0, 3, 1, 2])"
            ]
          },
          "metadata": {},
          "execution_count": 123
        }
      ]
    },
    {
      "cell_type": "code",
      "source": [
        "x[:, np.argsort(x[1])]"
      ],
      "metadata": {
        "colab": {
          "base_uri": "https://localhost:8080/"
        },
        "id": "d62-2TizJm0U",
        "outputId": "abb23e32-ca96-4af7-9ce6-d9cb9fc6aa53"
      },
      "execution_count": null,
      "outputs": [
        {
          "output_type": "execute_result",
          "data": {
            "text/plain": [
              "array([[  1,   4,   2,   3],\n",
              "       [ 46,  71,  99, 100],\n",
              "       [ 81, 100,  59,  90]])"
            ]
          },
          "metadata": {},
          "execution_count": 124
        }
      ]
    },
    {
      "cell_type": "markdown",
      "source": [
        "# 기술 통계 (descriptive statistics)"
      ],
      "metadata": {
        "id": "BuDCzP1HJ494"
      }
    },
    {
      "cell_type": "markdown",
      "source": [
        "* 데이터 집합에 대해 통계를 계산 (차원 축소)"
      ],
      "metadata": {
        "id": "vOHgiq4sJ_DU"
      }
    },
    {
      "cell_type": "code",
      "source": [
        "x = np.array([18,   5,  10,  23,  19,  -8,  10,   0,   0,   5,   2,  15,   8,\n",
        "              2,   5,   4,  15,  -1,   4,  -7, -24,   7,   9,  -6,  23, -13])\n",
        "x"
      ],
      "metadata": {
        "colab": {
          "base_uri": "https://localhost:8080/"
        },
        "id": "NWLbomwQKHTU",
        "outputId": "2cd2eb73-976b-44f7-8594-660298ff3070"
      },
      "execution_count": null,
      "outputs": [
        {
          "output_type": "execute_result",
          "data": {
            "text/plain": [
              "array([ 18,   5,  10,  23,  19,  -8,  10,   0,   0,   5,   2,  15,   8,\n",
              "         2,   5,   4,  15,  -1,   4,  -7, -24,   7,   9,  -6,  23, -13])"
            ]
          },
          "metadata": {},
          "execution_count": 125
        }
      ]
    },
    {
      "cell_type": "markdown",
      "source": [
        "## 데이터의 개수"
      ],
      "metadata": {
        "id": "EojBrepzKUu0"
      }
    },
    {
      "cell_type": "code",
      "source": [
        "len(x)"
      ],
      "metadata": {
        "colab": {
          "base_uri": "https://localhost:8080/"
        },
        "id": "IgC40poCKJh-",
        "outputId": "2c3da100-4d75-4926-f2b2-26e2e1f26c49"
      },
      "execution_count": null,
      "outputs": [
        {
          "output_type": "execute_result",
          "data": {
            "text/plain": [
              "26"
            ]
          },
          "metadata": {},
          "execution_count": 126
        }
      ]
    },
    {
      "cell_type": "markdown",
      "source": [
        "## 표본 평균\n",
        "* 우리가 일반적으로 아는 평균\n",
        "* 통계용어로는 표본 평균(sample average, sample mean)\n",
        "<br>\n",
        "$\n",
        "\\bar{x} = \\frac{1}{N}\\displaystyle\\sum_{i=1}^{N}{x_i}\n",
        "$\n",
        "(𝑁은 데이터의 개수)"
      ],
      "metadata": {
        "id": "2Bz11vNpKe-y"
      }
    },
    {
      "cell_type": "code",
      "source": [
        "# sum(data) / len(data)\n",
        "np.mean(x)"
      ],
      "metadata": {
        "colab": {
          "base_uri": "https://localhost:8080/"
        },
        "id": "y1a35BMWKea4",
        "outputId": "29334eec-2c7d-414a-a119-2851485d4677"
      },
      "execution_count": null,
      "outputs": [
        {
          "output_type": "execute_result",
          "data": {
            "text/plain": [
              "4.8076923076923075"
            ]
          },
          "metadata": {},
          "execution_count": 127
        }
      ]
    },
    {
      "cell_type": "markdown",
      "source": [
        "## 표본 분산\n",
        "* 표본 분산(sample variance) : 데이터와 표본 평균간의 거리의 제곱의 평균\n",
        "* 표본 분산이 작으면 데이터가 모여있는 것이고 크면 흩어져 있는 것\n",
        "<br>\n",
        "$\n",
        "s^2 = \\frac{1}{N}\\displaystyle\\sum_{i=1}^{N}{(x_i-\\bar{x})^2}\n",
        "$"
      ],
      "metadata": {
        "id": "ehCu9tUgKxze"
      }
    },
    {
      "cell_type": "code",
      "source": [
        "np.var(x)"
      ],
      "metadata": {
        "colab": {
          "base_uri": "https://localhost:8080/"
        },
        "id": "UN-4cdLIKxj8",
        "outputId": "917d1765-ee11-4c06-85ae-a5e49352dc1c"
      },
      "execution_count": null,
      "outputs": [
        {
          "output_type": "execute_result",
          "data": {
            "text/plain": [
              "115.23224852071006"
            ]
          },
          "metadata": {},
          "execution_count": 128
        }
      ]
    },
    {
      "cell_type": "markdown",
      "source": [
        "## 표본 표준편차\n",
        "* 표본 표준편차(sample standard variance) : 표본 분산의 양의 제곱근 값 \n",
        "<br>\n",
        "$\n",
        "s = \\sqrt{s^2}\n",
        "$"
      ],
      "metadata": {
        "id": "q0uGQ407LIyf"
      }
    },
    {
      "cell_type": "code",
      "source": [
        "np.std(x)"
      ],
      "metadata": {
        "colab": {
          "base_uri": "https://localhost:8080/"
        },
        "id": "kQ8Y82bUKt8v",
        "outputId": "6578023b-fd24-4b96-c0b2-215ca244a4f0"
      },
      "execution_count": null,
      "outputs": [
        {
          "output_type": "execute_result",
          "data": {
            "text/plain": [
              "10.734628476137871"
            ]
          },
          "metadata": {},
          "execution_count": 129
        }
      ]
    },
    {
      "cell_type": "markdown",
      "source": [
        "## 최댓값과 최솟값"
      ],
      "metadata": {
        "id": "Dmte-kE6LbD0"
      }
    },
    {
      "cell_type": "code",
      "source": [
        "# 최댓값 (maximum) / 최솟값 (minimum)\n",
        "np.max(x), np.min(x)"
      ],
      "metadata": {
        "colab": {
          "base_uri": "https://localhost:8080/"
        },
        "id": "5gg8B2iLLeco",
        "outputId": "2d0a1b83-80bb-4e36-cbed-c1b5613df6d4"
      },
      "execution_count": null,
      "outputs": [
        {
          "output_type": "execute_result",
          "data": {
            "text/plain": [
              "(23, -24)"
            ]
          },
          "metadata": {},
          "execution_count": 130
        }
      ]
    },
    {
      "cell_type": "markdown",
      "source": [
        "## 중앙값\n",
        "* 중앙값(median) : 데이터를 크기대로 정렬하였을 때 가장 가운데에 있는 수\n",
        "* 만약 데이터의 수가 짝수이면 가장 가운데에 있는 두 수의 평균을 사용"
      ],
      "metadata": {
        "id": "JwLIsy0eLgeC"
      }
    },
    {
      "cell_type": "code",
      "source": [
        "np.median(x)"
      ],
      "metadata": {
        "colab": {
          "base_uri": "https://localhost:8080/"
        },
        "id": "-EiB6_iCLju0",
        "outputId": "f00747d5-114f-4f50-f8cb-843ca02565f5"
      },
      "execution_count": null,
      "outputs": [
        {
          "output_type": "execute_result",
          "data": {
            "text/plain": [
              "5.0"
            ]
          },
          "metadata": {},
          "execution_count": 131
        }
      ]
    },
    {
      "cell_type": "markdown",
      "source": [
        "## 사분위수\n",
        "* 사분위수(quartile) : 데이터를 가장 작은 수부터 가장 큰 수까지 크기가 커지는 순서대로 정렬하였을 때 1/4, 2/4, 3/4 위치에 있는 수\n",
        "* 각각 1사분위수, 2사분위수, 3사분위수라고 함\n",
        "* 1/4의 위치란 전체 데이터의 수가 만약 100개이면 25번째 순서, 즉 하위 25%\n",
        "* 따라서 2사분위수는 중앙값과 같음\n",
        "* 때로는 위치를 1/100 단위로 나눈 백분위수(percentile)을 사용하기도 함\n",
        "* 1사분위수는 25% 백분위수와 같음"
      ],
      "metadata": {
        "id": "pl5vm5zILpv4"
      }
    },
    {
      "cell_type": "code",
      "source": [
        "np.percentile(x, 0)  # 최솟값 "
      ],
      "metadata": {
        "colab": {
          "base_uri": "https://localhost:8080/"
        },
        "id": "8ICtwSOfMKbR",
        "outputId": "3ba9233b-df51-4a6f-90de-ea60c0e39a80"
      },
      "execution_count": null,
      "outputs": [
        {
          "output_type": "execute_result",
          "data": {
            "text/plain": [
              "-24.0"
            ]
          },
          "metadata": {},
          "execution_count": 132
        }
      ]
    },
    {
      "cell_type": "code",
      "source": [
        "np.percentile(x, 25)  # 1사분위 수 100 중 25 => 25/100 => 1/4"
      ],
      "metadata": {
        "colab": {
          "base_uri": "https://localhost:8080/"
        },
        "id": "6UY3k19KMK32",
        "outputId": "548d69ae-ef37-4d6b-e405-c36e06c74b24"
      },
      "execution_count": null,
      "outputs": [
        {
          "output_type": "execute_result",
          "data": {
            "text/plain": [
              "0.0"
            ]
          },
          "metadata": {},
          "execution_count": 133
        }
      ]
    },
    {
      "cell_type": "code",
      "source": [
        "np.percentile(x, 50)  # 2사분위 수 2/4"
      ],
      "metadata": {
        "colab": {
          "base_uri": "https://localhost:8080/"
        },
        "id": "ElxM12iwMPEL",
        "outputId": "77d85cf4-0ca4-444e-f81c-cfc520b60848"
      },
      "execution_count": null,
      "outputs": [
        {
          "output_type": "execute_result",
          "data": {
            "text/plain": [
              "5.0"
            ]
          },
          "metadata": {},
          "execution_count": 134
        }
      ]
    },
    {
      "cell_type": "code",
      "source": [
        "np.percentile(x, 75)  # 3사분위 수 "
      ],
      "metadata": {
        "colab": {
          "base_uri": "https://localhost:8080/"
        },
        "id": "0FvCB1erMQYf",
        "outputId": "25d3a616-f781-4a8c-d4cf-1d4615018a70"
      },
      "execution_count": null,
      "outputs": [
        {
          "output_type": "execute_result",
          "data": {
            "text/plain": [
              "10.0"
            ]
          },
          "metadata": {},
          "execution_count": 135
        }
      ]
    },
    {
      "cell_type": "code",
      "source": [
        "np.percentile(x, 100)  # 최댓값 "
      ],
      "metadata": {
        "colab": {
          "base_uri": "https://localhost:8080/"
        },
        "id": "nMAAX0ECMRze",
        "outputId": "751567aa-ba60-4e77-b03e-1447f93eee04"
      },
      "execution_count": null,
      "outputs": [
        {
          "output_type": "execute_result",
          "data": {
            "text/plain": [
              "23.0"
            ]
          },
          "metadata": {},
          "execution_count": 136
        }
      ]
    },
    {
      "cell_type": "markdown",
      "source": [
        "# 난수 발생과 카운트"
      ],
      "metadata": {
        "id": "UGvXaeBGQwK5"
      }
    },
    {
      "cell_type": "markdown",
      "source": [
        "* 난수? 임의의 수? 무작위 수?\n",
        "* 컴퓨터 프로그램에서 발생하는 무작위의 수는 실은 엄격한 의미의 무작위 수가 아님\n",
        "* 어떠한 특정한 시작 숫자를 정해주면 컴퓨터가 정해진 알고리즘에 이해 마치 난수처럼 보이는 수열을 생성 -> 이런 시작 숫자를 시드(seed)라고 함"
      ],
      "metadata": {
        "id": "TSapvXX2Q0rp"
      }
    },
    {
      "cell_type": "markdown",
      "source": [
        "## 시드 설정"
      ],
      "metadata": {
        "id": "sc2205W_RRjx"
      }
    },
    {
      "cell_type": "markdown",
      "source": [
        "* 일단 생성된 나수는 다음번 난수 생성을 위한 시드값이 됨.\n",
        "* 시드값은 한 번만 정해주면 됨.\n",
        "* 시드 -> 현재 시각 등 -> 자동으로 정해짐. 사람이 수동으로 설정.\n",
        "* 수동으로 설정 -> 그 다음에 만들어진 난수는 모두 예측가능한 값.\n",
        "* 고정된 결과를 얻기 위해서는 실습 때 **시드**를 설정"
      ],
      "metadata": {
        "id": "CCx-izrHRV_Y"
      }
    },
    {
      "cell_type": "code",
      "source": [
        "np.random.seed(0) # 시드값이 고정"
      ],
      "metadata": {
        "id": "oUEWPg4OR8YD"
      },
      "execution_count": null,
      "outputs": []
    },
    {
      "cell_type": "markdown",
      "source": [
        "## `rand` : 0과 1 사이의 난수를 발생"
      ],
      "metadata": {
        "id": "-jMjslrrSE0D"
      }
    },
    {
      "cell_type": "code",
      "source": [
        "np.random.rand(5) # (갯수)"
      ],
      "metadata": {
        "colab": {
          "base_uri": "https://localhost:8080/"
        },
        "id": "5MKeOUA6SBou",
        "outputId": "88c9b9cd-c93c-42f8-f603-f1a7ca8bcc76"
      },
      "execution_count": null,
      "outputs": [
        {
          "output_type": "execute_result",
          "data": {
            "text/plain": [
              "array([0.5488135 , 0.71518937, 0.60276338, 0.54488318, 0.4236548 ])"
            ]
          },
          "metadata": {},
          "execution_count": 138
        }
      ]
    },
    {
      "cell_type": "code",
      "source": [
        "np.random.rand(10)"
      ],
      "metadata": {
        "colab": {
          "base_uri": "https://localhost:8080/"
        },
        "id": "Zxg7eZqMSWOh",
        "outputId": "81131744-c0ba-442d-a299-36600027c655"
      },
      "execution_count": null,
      "outputs": [
        {
          "output_type": "execute_result",
          "data": {
            "text/plain": [
              "array([0.64589411, 0.43758721, 0.891773  , 0.96366276, 0.38344152,\n",
              "       0.79172504, 0.52889492, 0.56804456, 0.92559664, 0.07103606])"
            ]
          },
          "metadata": {},
          "execution_count": 139
        }
      ]
    },
    {
      "cell_type": "markdown",
      "source": [
        "## 데이터의 순서 변경"
      ],
      "metadata": {
        "id": "0mY2_lTYSfnI"
      }
    },
    {
      "cell_type": "markdown",
      "source": [
        "### `shuffle`\n",
        "* 데이터의 순서를 변경\n",
        "* 자체 변환 함수(in-place) 함수 -> 원본에 영향"
      ],
      "metadata": {
        "id": "usg_gB-oSvkZ"
      }
    },
    {
      "cell_type": "code",
      "source": [
        "x = np.arange(10)\n",
        "x"
      ],
      "metadata": {
        "colab": {
          "base_uri": "https://localhost:8080/"
        },
        "id": "lENxXVKAS8-a",
        "outputId": "15205f19-aaa6-41f6-bbd5-52b714aef00a"
      },
      "execution_count": null,
      "outputs": [
        {
          "output_type": "execute_result",
          "data": {
            "text/plain": [
              "array([0, 1, 2, 3, 4, 5, 6, 7, 8, 9])"
            ]
          },
          "metadata": {},
          "execution_count": 140
        }
      ]
    },
    {
      "cell_type": "code",
      "source": [
        "np.random.shuffle(x)\n",
        "x"
      ],
      "metadata": {
        "colab": {
          "base_uri": "https://localhost:8080/"
        },
        "id": "9RZbCzVbS-0e",
        "outputId": "d700471b-641f-494c-f57f-26a05a0eb2d0"
      },
      "execution_count": null,
      "outputs": [
        {
          "output_type": "execute_result",
          "data": {
            "text/plain": [
              "array([5, 1, 8, 2, 6, 7, 0, 3, 4, 9])"
            ]
          },
          "metadata": {},
          "execution_count": 141
        }
      ]
    },
    {
      "cell_type": "markdown",
      "source": [
        "## 데이터 샘플링\n",
        "* 표본 선택 혹은 샘플링(sampling) : 이미 있는 데이터 집합에서 일부를 무작위로 선택하는 것"
      ],
      "metadata": {
        "id": "es0BNXB8TOYI"
      }
    },
    {
      "cell_type": "markdown",
      "source": [
        "### `choice` : 샘플링에 사용\n",
        "* a : 배열이면 원래의 데이터, 정수이면 arange(a) 명령으로 데이터 생성\n",
        "* size : 정수. 샘플 숫자\n",
        "* replace : 불리언. True이면 한번 선택한 데이터를 다시 선택 가능 (복원/비복원 추출)\n",
        "* p : 배열. 각 데이터가 선택될 수 있는 확률\n",
        "```\n",
        "np.random.choice(a, size=None, replace=True, p=None)\n",
        "```"
      ],
      "metadata": {
        "id": "G4rdC9DBTgj7"
      }
    },
    {
      "cell_type": "code",
      "source": [
        "# np.random.choice(추출 대상이 될 배열, 추출할 사이즈, 복원 여부, 개별 확률)\n",
        "np.random.choice(5, 5, replace=False)\n",
        "np.random.choice(5, 3, replace=False) # 비복원추출 : 자리뽑기, 경품뽑기"
      ],
      "metadata": {
        "colab": {
          "base_uri": "https://localhost:8080/"
        },
        "id": "l9ZdxLSbTf3h",
        "outputId": "a5bc5b2f-0c55-4fb2-d41d-3db4a5a8c5b1"
      },
      "execution_count": null,
      "outputs": [
        {
          "output_type": "execute_result",
          "data": {
            "text/plain": [
              "array([4, 2, 3])"
            ]
          },
          "metadata": {},
          "execution_count": 142
        }
      ]
    },
    {
      "cell_type": "code",
      "source": [
        "np.random.choice(5, 5, replace=True) # 복원추출 : 동전던지기, 주사위던지기"
      ],
      "metadata": {
        "colab": {
          "base_uri": "https://localhost:8080/"
        },
        "id": "TiWdyFxRTCiO",
        "outputId": "b9742908-464c-4a9d-b29e-4bb3a1c191a1"
      },
      "execution_count": null,
      "outputs": [
        {
          "output_type": "execute_result",
          "data": {
            "text/plain": [
              "array([0, 2, 4, 3, 3])"
            ]
          },
          "metadata": {},
          "execution_count": 143
        }
      ]
    },
    {
      "cell_type": "code",
      "source": [
        "# arange(5) = [0, 1, 2, 3, 4] => 10.\n",
        "np.random.choice(5, 10, p=[0.1, 0, 0.3, 0.6, 0])"
      ],
      "metadata": {
        "colab": {
          "base_uri": "https://localhost:8080/"
        },
        "id": "gCHpSqTQUakb",
        "outputId": "3c814351-8931-4aa6-c1ef-bff2365a522c"
      },
      "execution_count": null,
      "outputs": [
        {
          "output_type": "execute_result",
          "data": {
            "text/plain": [
              "array([3, 2, 2, 2, 2, 2, 2, 3, 3, 3])"
            ]
          },
          "metadata": {},
          "execution_count": 144
        }
      ]
    },
    {
      "cell_type": "markdown",
      "source": [
        "## 난수 생성"
      ],
      "metadata": {
        "id": "GjpfZ1pbU3Vr"
      }
    },
    {
      "cell_type": "markdown",
      "source": [
        "## `rand` : 0~1 사이에서 균일한 확률 분포로 실수인 난수를 생성\n",
        "=> 0~1 사이의 임의의 수 <br>\n",
        "`np.random.rand(n)` : 생성할 난수의 개수 <br>\n",
        "`np.random.rand(m, n)` : 배열 모양으로 생성"
      ],
      "metadata": {
        "id": "weYWSRZ_U83I"
      }
    },
    {
      "cell_type": "code",
      "source": [
        "np.random.rand(10) # 0~1 10개 임의의 수"
      ],
      "metadata": {
        "colab": {
          "base_uri": "https://localhost:8080/"
        },
        "id": "pQWKSseIU5GO",
        "outputId": "e5dfc6f1-613f-4e9c-86e9-c91af5c32852"
      },
      "execution_count": null,
      "outputs": [
        {
          "output_type": "execute_result",
          "data": {
            "text/plain": [
              "array([0.90234858, 0.09928035, 0.96980907, 0.65314004, 0.17090959,\n",
              "       0.35815217, 0.75068614, 0.60783067, 0.32504723, 0.03842543])"
            ]
          },
          "metadata": {},
          "execution_count": 145
        }
      ]
    },
    {
      "cell_type": "code",
      "source": [
        "np.random.rand(3, 5) # 0~1 15개 -> (3, 5)"
      ],
      "metadata": {
        "colab": {
          "base_uri": "https://localhost:8080/"
        },
        "id": "i5ny5qG_VU4J",
        "outputId": "a6fc7785-bc04-4dfc-83cc-9b9a32b48617"
      },
      "execution_count": null,
      "outputs": [
        {
          "output_type": "execute_result",
          "data": {
            "text/plain": [
              "array([[0.63427406, 0.95894927, 0.65279032, 0.63505887, 0.99529957],\n",
              "       [0.58185033, 0.41436859, 0.4746975 , 0.6235101 , 0.33800761],\n",
              "       [0.67475232, 0.31720174, 0.77834548, 0.94957105, 0.66252687]])"
            ]
          },
          "metadata": {},
          "execution_count": 146
        }
      ]
    },
    {
      "cell_type": "code",
      "source": [
        "np.random.rand(3, 5, 2)"
      ],
      "metadata": {
        "colab": {
          "base_uri": "https://localhost:8080/"
        },
        "id": "xW4vIPKmVYdW",
        "outputId": "22a1b6f8-9c27-48d4-e9ec-f0f1701c480d"
      },
      "execution_count": null,
      "outputs": [
        {
          "output_type": "execute_result",
          "data": {
            "text/plain": [
              "array([[[0.01357164, 0.6228461 ],\n",
              "        [0.67365963, 0.971945  ],\n",
              "        [0.87819347, 0.50962438],\n",
              "        [0.05571469, 0.45115921],\n",
              "        [0.01998767, 0.44171092]],\n",
              "\n",
              "       [[0.97958673, 0.35944446],\n",
              "        [0.48089353, 0.68866118],\n",
              "        [0.88047589, 0.91823547],\n",
              "        [0.21682214, 0.56518887],\n",
              "        [0.86510256, 0.50896896]],\n",
              "\n",
              "       [[0.91672295, 0.92115761],\n",
              "        [0.08311249, 0.27771856],\n",
              "        [0.0093567 , 0.84234208],\n",
              "        [0.64717414, 0.84138612],\n",
              "        [0.26473016, 0.39782075]]])"
            ]
          },
          "metadata": {},
          "execution_count": 147
        }
      ]
    },
    {
      "cell_type": "markdown",
      "source": [
        "### `randn` : 기댓값(평균)이 0이고 표준편차가 1인 표준 정규 분포 (standard normal distribution)를 따르는 난수를 생성"
      ],
      "metadata": {
        "id": "nfpgp8AkVprh"
      }
    },
    {
      "cell_type": "code",
      "source": [
        "np.random.randn(10)"
      ],
      "metadata": {
        "colab": {
          "base_uri": "https://localhost:8080/"
        },
        "id": "WMDsYW7sV6-F",
        "outputId": "f9f0fdcc-662b-4a28-90db-a4751fcbeaae"
      },
      "execution_count": null,
      "outputs": [
        {
          "output_type": "execute_result",
          "data": {
            "text/plain": [
              "array([-1.23063497,  0.19400719, -0.99838235, -0.3676376 ,  1.73719932,\n",
              "        0.59361275, -0.54236358, -1.71967238, -0.57890879,  1.42694855])"
            ]
          },
          "metadata": {},
          "execution_count": 148
        }
      ]
    },
    {
      "cell_type": "code",
      "source": [
        "np.random.randn(5, 2)"
      ],
      "metadata": {
        "colab": {
          "base_uri": "https://localhost:8080/"
        },
        "id": "OLr9XhzfWAJs",
        "outputId": "9d69eff7-80cf-4817-af82-859440b6e443"
      },
      "execution_count": null,
      "outputs": [
        {
          "output_type": "execute_result",
          "data": {
            "text/plain": [
              "array([[ 0.27699691,  0.78966713],\n",
              "       [ 0.32207411,  0.70039238],\n",
              "       [ 0.38871663, -0.04126386],\n",
              "       [ 0.29588432, -0.42527999],\n",
              "       [ 1.72763912, -0.86835257]])"
            ]
          },
          "metadata": {},
          "execution_count": 149
        }
      ]
    },
    {
      "cell_type": "markdown",
      "source": [
        "### `randint` : 임의의 범위의 숫자들을 리턴\n",
        "```\n",
        "np.random.randint(low, high=None, size=None)\n",
        "```\n",
        "low~high값까지의 범위에 임의 정수를 반환\n",
        "* high를 입력하지 않으면 0~low\n",
        "* size를 입력하지 않으면 1만. size 입력하면 그만큼\n"
      ],
      "metadata": {
        "id": "RD_z999PWVrZ"
      }
    },
    {
      "cell_type": "code",
      "source": [
        "np.random.randint(10)"
      ],
      "metadata": {
        "colab": {
          "base_uri": "https://localhost:8080/"
        },
        "id": "9YWiVl3vWsxJ",
        "outputId": "a3db6e00-a0f1-47e5-acda-a95754e27b1c"
      },
      "execution_count": null,
      "outputs": [
        {
          "output_type": "execute_result",
          "data": {
            "text/plain": [
              "0"
            ]
          },
          "metadata": {},
          "execution_count": 150
        }
      ]
    },
    {
      "cell_type": "code",
      "source": [
        "np.random.randint(10, size=10)"
      ],
      "metadata": {
        "colab": {
          "base_uri": "https://localhost:8080/"
        },
        "id": "7aN9SRu_Wxdo",
        "outputId": "8c11a1ea-1c66-4d6e-b4dc-e2114af0f193"
      },
      "execution_count": null,
      "outputs": [
        {
          "output_type": "execute_result",
          "data": {
            "text/plain": [
              "array([8, 5, 9, 0, 9, 6, 5, 3, 1, 8])"
            ]
          },
          "metadata": {},
          "execution_count": 151
        }
      ]
    },
    {
      "cell_type": "code",
      "source": [
        "np.random.randint(10, 20, size=10) # size는 배열의 사이즈"
      ],
      "metadata": {
        "colab": {
          "base_uri": "https://localhost:8080/"
        },
        "id": "5PQC9QP3W4Qu",
        "outputId": "77bff3f7-d9b4-4b44-feb4-4f81a1e18ae0"
      },
      "execution_count": null,
      "outputs": [
        {
          "output_type": "execute_result",
          "data": {
            "text/plain": [
              "array([10, 14, 19, 16, 15, 17, 18, 18, 19, 12])"
            ]
          },
          "metadata": {},
          "execution_count": 152
        }
      ]
    },
    {
      "cell_type": "code",
      "source": [
        "np.random.randint(10, 20, size=(2, 2, 5))"
      ],
      "metadata": {
        "colab": {
          "base_uri": "https://localhost:8080/"
        },
        "id": "B67twywHW7dl",
        "outputId": "96f8cc9c-93f4-4b44-8763-809c901cba0c"
      },
      "execution_count": null,
      "outputs": [
        {
          "output_type": "execute_result",
          "data": {
            "text/plain": [
              "array([[[18, 16, 16, 19, 11],\n",
              "        [16, 18, 18, 13, 12]],\n",
              "\n",
              "       [[13, 16, 13, 16, 15],\n",
              "        [17, 10, 18, 14, 16]]])"
            ]
          },
          "metadata": {},
          "execution_count": 153
        }
      ]
    },
    {
      "cell_type": "markdown",
      "source": [
        "## ⚓ 연습문제 3\n",
        "1. 동전을 10번 던져 앞면(숫자 1)과 뒷면(숫자 0)이 나오는 가상 실험을 작성하라\n",
        "2. 주사위를 100번 던져서 나오는 숫자의 평균\n",
        "3. 가격이 10,000원인 주식이 있다. 이 주식의 일간 수익률(%)은 기댓값이 0%이고 표준편차가 1%인 표준 정규 분포를 따른다고 하자. 250일 동안의 주가를 무작위로 생성하라"
      ],
      "metadata": {
        "id": "E-ENEgThXBWk"
      }
    },
    {
      "cell_type": "code",
      "source": [
        "#1\n",
        "np.random.randint(2, size=10)"
      ],
      "metadata": {
        "colab": {
          "base_uri": "https://localhost:8080/"
        },
        "id": "pMrTYp-JdEpG",
        "outputId": "a9002c5f-4d10-4133-d391-18bb0891531c"
      },
      "execution_count": null,
      "outputs": [
        {
          "output_type": "execute_result",
          "data": {
            "text/plain": [
              "array([1, 1, 1, 0, 1, 0, 0, 1, 1, 1])"
            ]
          },
          "metadata": {},
          "execution_count": 154
        }
      ]
    },
    {
      "cell_type": "code",
      "source": [
        "# HEAD, TAIL\n",
        "coin = np.array(['HEAD', 'TAIL']) # 앞, 뒤\n",
        "coin = np.array([0, 1]) # 앞, 뒤\n",
        "np.random.choice(coin, size=10, replace=True)"
      ],
      "metadata": {
        "colab": {
          "base_uri": "https://localhost:8080/"
        },
        "id": "stZjdfnQdP6I",
        "outputId": "e20a91d1-e633-411f-afe5-caa19efb5177"
      },
      "execution_count": null,
      "outputs": [
        {
          "output_type": "execute_result",
          "data": {
            "text/plain": [
              "array([1, 1, 1, 0, 0, 1, 1, 1, 1, 1])"
            ]
          },
          "metadata": {},
          "execution_count": 155
        }
      ]
    },
    {
      "cell_type": "code",
      "source": [
        "#2\n",
        "dice = np.arange(1, 7) # 1~6\n",
        "np.random.choice(dice, 100, replace=True).mean()"
      ],
      "metadata": {
        "colab": {
          "base_uri": "https://localhost:8080/"
        },
        "id": "9-mHVjg3dikd",
        "outputId": "197355c4-87bf-4284-a6b9-88d880c45f91"
      },
      "execution_count": null,
      "outputs": [
        {
          "output_type": "execute_result",
          "data": {
            "text/plain": [
              "3.47"
            ]
          },
          "metadata": {},
          "execution_count": 156
        }
      ]
    },
    {
      "cell_type": "code",
      "source": [
        "(np.random.randint(6, size=100) + 1).mean()"
      ],
      "metadata": {
        "colab": {
          "base_uri": "https://localhost:8080/"
        },
        "id": "uyCocTfIdqK4",
        "outputId": "c88730ad-ce74-430e-e141-5b0dfb74c94f"
      },
      "execution_count": null,
      "outputs": [
        {
          "output_type": "execute_result",
          "data": {
            "text/plain": [
              "3.49"
            ]
          },
          "metadata": {},
          "execution_count": 157
        }
      ]
    },
    {
      "cell_type": "code",
      "source": [
        "#3\n",
        "earn1 = np.random.randn(250)\n",
        "earn1 # 평균 0, 표준편차가 1인 분포"
      ],
      "metadata": {
        "id": "Ubje0nO_d7IF",
        "colab": {
          "base_uri": "https://localhost:8080/"
        },
        "outputId": "ddf563c2-248c-4fc3-e03c-268377e7b54b"
      },
      "execution_count": null,
      "outputs": [
        {
          "output_type": "execute_result",
          "data": {
            "text/plain": [
              "array([-1.5180287 , -1.89304483, -0.78508653, -1.60529407,  1.43184023,\n",
              "       -1.94219012,  1.13995339, -0.61716593, -1.77555859, -1.11820547,\n",
              "       -1.60638701, -0.81467608,  0.3212809 , -0.12393044,  0.02212126,\n",
              "       -0.32128651,  0.69261805, -0.35352352,  0.81228996, -1.14178779,\n",
              "       -0.28754879,  1.31554171,  0.68578051,  0.52459879, -0.7933874 ,\n",
              "       -0.23788075,  0.56949752, -1.51060714, -1.5650543 , -3.05123442,\n",
              "        1.55966482, -2.63100846,  1.14366776, -0.18805628,  1.24678097,\n",
              "       -0.25388358, -0.87017597,  0.01965374, -1.11437255,  0.60784169,\n",
              "        0.45723671,  0.87553919,  0.3464808 , -0.45487435,  0.19809488,\n",
              "        0.39140807, -3.17786023, -0.95657514, -0.03127493,  1.03272369,\n",
              "       -1.21561912, -0.31867814,  1.49512875, -0.13025112, -1.2028948 ,\n",
              "        0.19956511,  0.39316617, -0.93691559, -1.97934857,  0.44538374,\n",
              "       -0.19533331, -0.20271649,  0.2193885 , -1.03015981, -0.92974401,\n",
              "       -2.55856575,  1.64949685,  0.61173844, -1.05194397, -0.75494625,\n",
              "        0.62318767,  0.00470758, -0.89989113,  0.12924181,  0.97969276,\n",
              "        0.32837496,  0.48707415,  0.14484156, -0.0856099 ,  0.7105399 ,\n",
              "        0.93095988,  0.87507402, -0.71156531, -0.36120904, -2.10924743,\n",
              "       -1.09376775,  1.2045055 ,  0.11108051,  1.96099802,  0.39459838,\n",
              "       -0.82712929,  0.22490418, -0.15302329, -0.24072956,  0.08158307,\n",
              "        1.23816955,  2.18377828,  0.19056415, -0.49816695,  0.04751241,\n",
              "        1.44832909,  0.42822114, -0.17075342, -2.35477728, -0.46780647,\n",
              "       -0.12940171,  0.90005154, -0.51565282,  0.52039958,  1.14104995,\n",
              "       -1.44472444, -1.01767176, -0.9902687 ,  1.5241503 ,  0.636245  ,\n",
              "        0.19961835, -0.00771179,  1.17548964,  1.25565891, -0.28092621,\n",
              "       -0.36691768,  1.65372484, -0.0856097 ,  0.29335732,  1.48725748,\n",
              "       -0.6384799 ,  0.70876883, -0.08252772, -0.68738373, -1.41131158,\n",
              "        0.62138371,  0.30851124, -0.33093937, -0.48521613, -0.06021182,\n",
              "       -1.55964692, -0.29140533,  0.80407192,  0.7358267 , -0.20263954,\n",
              "        0.29024665, -0.85481765, -0.32613218, -0.95225197,  1.18696329,\n",
              "       -1.1571738 ,  0.01929999,  1.45002068,  0.6521225 , -0.3442692 ,\n",
              "        1.29088949, -0.80212452, -1.38908779,  0.25764227,  1.12747288,\n",
              "        2.78493306, -0.09139459, -0.02907242,  1.03057395,  1.02488236,\n",
              "        1.58319908,  1.02916094,  1.8343708 , -0.49100747, -0.80946925,\n",
              "       -0.24624784, -0.45175295, -0.65811267,  0.39228792, -1.39646178,\n",
              "        0.33689517,  0.62667551,  0.5469885 , -0.30784142,  0.07341223,\n",
              "       -0.27666324,  0.13952191, -0.05091297,  0.74009103, -0.32336157,\n",
              "        2.40099806,  2.81274535,  0.61912526, -2.32870209,  1.10300532,\n",
              "        1.40517731, -1.71225511,  0.3642798 , -1.41423684,  0.9533122 ,\n",
              "       -0.43121105, -0.03607716, -2.02180438,  0.84549916, -1.21167713,\n",
              "        0.00947849,  0.86038501, -0.15779556, -0.62377343,  0.29725239,\n",
              "        0.33684093, -1.812277  , -0.7392476 ,  1.49101888, -0.25109914,\n",
              "       -1.51813904,  0.24976833,  0.61931236,  1.85127012, -0.59345133,\n",
              "       -0.2132279 ,  0.0672867 ,  0.08311989,  0.82133461, -0.17492684,\n",
              "        1.37574593,  0.15368535,  1.28400715, -0.94005815, -1.68877613,\n",
              "        2.18156894,  0.80038596,  0.77013893, -2.20540673,  0.35947459,\n",
              "       -0.75413358, -1.10900463, -0.80293367,  0.87413349,  0.13505663,\n",
              "        1.81474877,  1.48436569,  0.45740885, -1.48133575, -0.41880902,\n",
              "       -0.90231585, -1.47029941,  1.33072287,  0.72953227, -2.72742213,\n",
              "       -1.34741271, -0.10813888, -1.31161305, -0.27386564,  0.19453562,\n",
              "        1.81973746,  1.70197934,  1.11087633, -1.25323249,  0.99278087])"
            ]
          },
          "metadata": {},
          "execution_count": 158
        }
      ]
    },
    {
      "cell_type": "code",
      "source": [
        "earn2 = earn1 / 100 # 1% 표준편차 (1% = 0.01)\n",
        "earn2"
      ],
      "metadata": {
        "id": "P-M0eAy7eHJ2",
        "colab": {
          "base_uri": "https://localhost:8080/"
        },
        "outputId": "3f7cad67-2571-4a77-d537-07cd0c3d2217"
      },
      "execution_count": null,
      "outputs": [
        {
          "output_type": "execute_result",
          "data": {
            "text/plain": [
              "array([-1.51802870e-02, -1.89304483e-02, -7.85086531e-03, -1.60529407e-02,\n",
              "        1.43184023e-02, -1.94219012e-02,  1.13995339e-02, -6.17165933e-03,\n",
              "       -1.77555859e-02, -1.11820547e-02, -1.60638701e-02, -8.14676080e-03,\n",
              "        3.21280905e-03, -1.23930443e-03,  2.21212562e-04, -3.21286508e-03,\n",
              "        6.92618052e-03, -3.53523517e-03,  8.12289960e-03, -1.14178779e-02,\n",
              "       -2.87548786e-03,  1.31554171e-02,  6.85780511e-03,  5.24598790e-03,\n",
              "       -7.93387397e-03, -2.37880748e-03,  5.69497523e-03, -1.51060714e-02,\n",
              "       -1.56505430e-02, -3.05123442e-02,  1.55966482e-02, -2.63100846e-02,\n",
              "        1.14366776e-02, -1.88056280e-03,  1.24678097e-02, -2.53883582e-03,\n",
              "       -8.70175971e-03,  1.96537437e-04, -1.11437255e-02,  6.07841688e-03,\n",
              "        4.57236707e-03,  8.75539189e-03,  3.46480801e-03, -4.54874349e-03,\n",
              "        1.98094883e-03,  3.91408072e-03, -3.17786023e-02, -9.56575138e-03,\n",
              "       -3.12749285e-04,  1.03272369e-02, -1.21561912e-02, -3.18678145e-03,\n",
              "        1.49512875e-02, -1.30251122e-03, -1.20289480e-02,  1.99565114e-03,\n",
              "        3.93166166e-03, -9.36915589e-03, -1.97934857e-02,  4.45383744e-03,\n",
              "       -1.95333312e-03, -2.02716487e-03,  2.19388501e-03, -1.03015981e-02,\n",
              "       -9.29744012e-03, -2.55856575e-02,  1.64949685e-02,  6.11738436e-03,\n",
              "       -1.05194397e-02, -7.54946248e-03,  6.23187665e-03,  4.70758246e-05,\n",
              "       -8.99891126e-03,  1.29241813e-03,  9.79692760e-03,  3.28374958e-03,\n",
              "        4.87074146e-03,  1.44841564e-03, -8.56098985e-04,  7.10539900e-03,\n",
              "        9.30959883e-03,  8.75074019e-03, -7.11565309e-03, -3.61209042e-03,\n",
              "       -2.10924743e-02, -1.09376775e-02,  1.20450550e-02,  1.11080515e-03,\n",
              "        1.96099802e-02,  3.94598380e-03, -8.27129291e-03,  2.24904180e-03,\n",
              "       -1.53023287e-03, -2.40729561e-03,  8.15830749e-04,  1.23816955e-02,\n",
              "        2.18377828e-02,  1.90564147e-03, -4.98166948e-03,  4.75124115e-04,\n",
              "        1.44832909e-02,  4.28221143e-03, -1.70753424e-03, -2.35477728e-02,\n",
              "       -4.67806466e-03, -1.29401714e-03,  9.00051544e-03, -5.15652821e-03,\n",
              "        5.20399580e-03,  1.14104995e-02, -1.44472444e-02, -1.01767176e-02,\n",
              "       -9.90268704e-03,  1.52415030e-02,  6.36245000e-03,  1.99618354e-03,\n",
              "       -7.71179087e-05,  1.17548964e-02,  1.25565891e-02, -2.80926213e-03,\n",
              "       -3.66917678e-03,  1.65372484e-02, -8.56096963e-04,  2.93357322e-03,\n",
              "        1.48725748e-02, -6.38479901e-03,  7.08768833e-03, -8.25277153e-04,\n",
              "       -6.87383733e-03, -1.41131158e-02,  6.21383707e-03,  3.08511236e-03,\n",
              "       -3.30939365e-03, -4.85216135e-03, -6.02118215e-04, -1.55964692e-02,\n",
              "       -2.91405331e-03,  8.04071924e-03,  7.35826698e-03, -2.02639540e-03,\n",
              "        2.90246651e-03, -8.54817646e-03, -3.26132182e-03, -9.52251971e-03,\n",
              "        1.18696329e-02, -1.15717380e-02,  1.92999931e-04,  1.45002068e-02,\n",
              "        6.52122500e-03, -3.44269204e-03,  1.29088949e-02, -8.02124523e-03,\n",
              "       -1.38908779e-02,  2.57642272e-03,  1.12747288e-02,  2.78493306e-02,\n",
              "       -9.13945885e-04, -2.90724156e-04,  1.03057395e-02,  1.02488236e-02,\n",
              "        1.58319908e-02,  1.02916094e-02,  1.83437080e-02, -4.91007466e-03,\n",
              "       -8.09469254e-03, -2.46247842e-03, -4.51752947e-03, -6.58112674e-03,\n",
              "        3.92287916e-03, -1.39646178e-02,  3.36895172e-03,  6.26675514e-03,\n",
              "        5.46988504e-03, -3.07841420e-03,  7.34122263e-04, -2.76663239e-03,\n",
              "        1.39521905e-03, -5.09129735e-04,  7.40091034e-03, -3.23361575e-03,\n",
              "        2.40099806e-02,  2.81274535e-02,  6.19125260e-03, -2.32870209e-02,\n",
              "        1.10300532e-02,  1.40517731e-02, -1.71225511e-02,  3.64279798e-03,\n",
              "       -1.41423684e-02,  9.53312198e-03, -4.31211053e-03, -3.60771624e-04,\n",
              "       -2.02180438e-02,  8.45499157e-03, -1.21167713e-02,  9.47849187e-05,\n",
              "        8.60385012e-03, -1.57795558e-03, -6.23773426e-03,  2.97252387e-03,\n",
              "        3.36840932e-03, -1.81227700e-02, -7.39247604e-03,  1.49101888e-02,\n",
              "       -2.51099135e-03, -1.51813904e-02,  2.49768334e-03,  6.19312364e-03,\n",
              "        1.85127012e-02, -5.93451333e-03, -2.13227898e-03,  6.72866974e-04,\n",
              "        8.31198873e-04,  8.21334607e-03, -1.74926840e-03,  1.37574593e-02,\n",
              "        1.53685349e-03,  1.28400715e-02, -9.40058152e-03, -1.68877613e-02,\n",
              "        2.18156894e-02,  8.00385958e-03,  7.70138926e-03, -2.20540673e-02,\n",
              "        3.59474586e-03, -7.54133581e-03, -1.10900463e-02, -8.02933672e-03,\n",
              "        8.74133494e-03,  1.35056628e-03,  1.81474877e-02,  1.48436569e-02,\n",
              "        4.57408852e-03, -1.48133575e-02, -4.18809016e-03, -9.02315847e-03,\n",
              "       -1.47029941e-02,  1.33072287e-02,  7.29532267e-03, -2.72742213e-02,\n",
              "       -1.34741271e-02, -1.08138879e-03, -1.31161305e-02, -2.73865645e-03,\n",
              "        1.94535616e-03,  1.81973746e-02,  1.70197934e-02,  1.11087633e-02,\n",
              "       -1.25323249e-02,  9.92780867e-03])"
            ]
          },
          "metadata": {},
          "execution_count": 159
        }
      ]
    },
    {
      "cell_type": "code",
      "source": [
        "stock = np.empty(250)\n",
        "price = 10000\n",
        "for i, v in enumerate(earn2): # index, value\n",
        "    price *= (1 + v) # 수익률 변화를 거친 금액\n",
        "    stock[i] = price\n",
        "stock"
      ],
      "metadata": {
        "id": "C5H62xU3eMCI",
        "colab": {
          "base_uri": "https://localhost:8080/"
        },
        "outputId": "a2e55ec9-b948-4b1a-bc95-5b7ed1beaf92"
      },
      "execution_count": null,
      "outputs": [
        {
          "output_type": "execute_result",
          "data": {
            "text/plain": [
              "array([9848.19713004, 9661.76634387, 9585.9131176 , 9432.03102311,\n",
              "       9567.08263755, 9381.27170348, 9488.21382863, 9429.65580522,\n",
              "       9262.2267414 , 9158.65601502, 9011.53255424, 8938.11775405,\n",
              "       8966.83421964, 8955.72158224, 8957.70270035, 8928.9228101 ,\n",
              "       8990.76614131, 8958.98166861, 9031.75457723, 8928.63110625,\n",
              "       8902.95693588, 9020.07904808, 9081.93699225, 9129.58072385,\n",
              "       9057.14778096, 9035.60257005, 9087.06010288, 8949.79032387,\n",
              "       8809.7212457 , 8540.91599879, 8674.12566054, 8445.90868068,\n",
              "       8542.5018157 , 8526.43710459, 8632.74309967, 8610.82598229,\n",
              "       8535.89664365, 8537.5742669 , 8442.43388288, 8493.75051549,\n",
              "       8532.58706063, 8607.29320416, 8637.11582257, 8597.82779817,\n",
              "       8614.8596551 , 8648.57891115, 8373.73916146, 8293.63805454,\n",
              "       8291.04422517, 8376.66780299, 8274.83942765, 8248.46932289,\n",
              "       8371.79455883, 8360.89020248, 8260.31748875, 8276.8022008 ,\n",
              "       8309.34378665, 8231.49224936, 8068.56232539, 8104.49839037,\n",
              "       8088.66760525, 8072.27054248, 8089.98017583, 8006.64045134,\n",
              "       7932.19919117, 7729.24865929, 7856.74237209, 7904.80508501,\n",
              "       7821.65096447, 7762.60170394, 7810.97728026, 7811.34498845,\n",
              "       7741.05138808, 7751.05606327, 7826.99259832, 7852.69448195,\n",
              "       7890.94292654, 7902.3722917 , 7895.6070788 , 7951.70851744,\n",
              "       8025.73573374, 8095.96686198, 8038.3587704 , 8009.32349171,\n",
              "       7840.38704144, 7754.6314165 , 7848.0363788 , 7856.75401801,\n",
              "       8010.82480837, 8042.43539326, 7975.91405445, 7993.85221859,\n",
              "       7981.61976313, 7962.40564493, 7968.90162029, 8067.57013339,\n",
              "       8243.74797806, 8259.4576061 , 8218.31171824, 8222.21643633,\n",
              "       8341.30118861, 8377.02040391, 8362.71635477, 8165.79301012,\n",
              "       8127.59290244, 8117.07565789, 8190.13352267, 8147.90086808,\n",
              "       8190.30250998, 8283.75795237, 8164.08047667, 8080.99693501,\n",
              "       8000.97335141, 8122.92021108, 8174.6018848 , 8190.91989056,\n",
              "       8190.28822395, 8286.56421325, 8390.61519499, 8367.04375748,\n",
              "       8336.3435948 , 8474.2037795 , 8466.94903938, 8491.78745434,\n",
              "       8618.08219806, 8563.05747538, 8623.74975788, 8616.63277423,\n",
              "       8557.40344218, 8436.6318166 , 8489.05567209, 8515.24536263,\n",
              "       8487.06506366, 8445.88445462, 8440.79903375, 8309.15237134,\n",
              "       8284.93905835, 8351.55592726, 8413.00890551, 8395.96082298,\n",
              "       8420.3298181 , 8348.35135292, 8321.12469248, 8241.88661855,\n",
              "       8339.71478697, 8243.20979276, 8244.80073168, 8364.35204692,\n",
              "       8418.89786861, 8389.91419594, 8498.2187164 , 8430.05242007,\n",
              "       8312.95159136, 8334.36926869, 8428.33702192, 8663.06056646,\n",
              "       8655.14299791, 8652.62673876, 8741.79845608, 8831.39160641,\n",
              "       8971.21011704, 9063.53830762, 9229.79720735, 9184.47821396,\n",
              "       9110.13268668, 9087.69918153, 9046.64523263, 8987.10811382,\n",
              "       9022.36345297, 8896.36959611, 8926.34103578, 8982.28022936,\n",
              "       9031.4122696 , 9003.60984182, 9010.21959226, 8985.29162686,\n",
              "       8997.82807692, 8993.2470151 , 9059.80522988, 9030.50930101,\n",
              "       9247.33165418, 9507.43554503, 9566.29848002, 9343.5278878 ,\n",
              "       9446.58749778, 9579.32880165, 9415.30625428, 9449.60431291,\n",
              "       9315.96452731, 9404.7747535 , 9364.22032522, 9360.84198025,\n",
              "       9171.58406731, 9249.12973328, 9137.06014393, 9137.92619943,\n",
              "       9216.54754684, 9202.0042442 , 9144.60458711, 9171.78714254,\n",
              "       9202.68147585, 9035.90339653, 8969.1056972 , 9102.83675679,\n",
              "       9079.9796124 , 8942.13289725, 8964.46751363, 9019.98556933,\n",
              "       9186.96986666, 9132.44967151, 9112.97674108, 9119.10856217,\n",
              "       9126.68835493, 9201.64900488, 9185.55285109, 9311.92272071,\n",
              "       9326.23378165, 9445.98329006, 9357.18555413, 9199.16363845,\n",
              "       9399.84973491, 9475.08481227, 9548.05612865, 9337.48265653,\n",
              "       9371.04853365, 9300.37830976, 9197.2366834 , 9123.38897318,\n",
              "       9203.13957202, 9215.56902202, 9382.80844761, 9522.08363682,\n",
              "       9565.63849027, 9423.93926734, 9384.47095999, 9299.79339136,\n",
              "       9163.05858395, 9284.99350038, 9352.73052397, 9097.64208154,\n",
              "       8975.05929559, 8965.35376711, 8847.76301682, 8823.53203361,\n",
              "       8840.69694598, 9001.57442014, 9154.77935722, 9256.47763395,\n",
              "       9140.47244925, 9231.21731092])"
            ]
          },
          "metadata": {},
          "execution_count": 160
        }
      ]
    },
    {
      "cell_type": "code",
      "source": [
        "er = np.random.randn(250) / 100\n",
        "stock = np.empty(250)\n",
        "price = 10000\n",
        "for i, v in enumerate(er): # index, value\n",
        "    price *= (1 + v) # 수익률 변화를 거친 금액\n",
        "    stock[i] = price\n",
        "stock"
      ],
      "metadata": {
        "colab": {
          "base_uri": "https://localhost:8080/"
        },
        "id": "9r2yvI2ge5tW",
        "outputId": "75df4cd4-db25-4b35-91ea-b2cd5734953a"
      },
      "execution_count": null,
      "outputs": [
        {
          "output_type": "execute_result",
          "data": {
            "text/plain": [
              "array([ 9916.61202489,  9753.63217386,  9834.52391755,  9862.3053274 ,\n",
              "        9935.92078765,  9924.24860698,  9780.84144242,  9971.62349832,\n",
              "        9798.18456114,  9906.86141532, 10032.2909109 , 10163.23702696,\n",
              "       10126.17416625, 10248.35796908, 10320.68049193, 10312.05022678,\n",
              "       10189.49230706, 10278.79415751, 10336.49810199, 10344.63391119,\n",
              "       10310.05065556, 10251.56099077, 10262.55430235, 10245.21541625,\n",
              "       10305.90493278, 10266.52451716, 10239.30654242, 10108.87323873,\n",
              "       10193.61232418, 10014.44177946, 10026.95591531,  9968.6781264 ,\n",
              "        9990.85406661, 10021.8505707 , 10088.84370249, 10015.42921627,\n",
              "        9868.28872314, 10015.26893243,  9985.5711379 , 10036.87455495,\n",
              "        9838.08951206,  9580.07151381,  9629.86605469,  9630.76484292,\n",
              "        9352.08711315,  9246.45335873,  9093.80669212,  8966.80633724,\n",
              "        8961.88041614,  8943.09017733,  9046.73884216,  9181.90760857,\n",
              "        9205.17956806,  9261.40265344,  9151.41356334,  9047.38051662,\n",
              "        9091.265645  ,  9144.55929249,  9234.13314015,  9141.60171513,\n",
              "        8954.20343994,  9066.84968619,  8989.25158407,  8994.97574514,\n",
              "        8986.28741621,  8989.34476885,  9018.98152766,  9082.54026499,\n",
              "        9171.57856133,  9134.2102868 ,  9203.36156882,  9288.88010575,\n",
              "        9155.9199251 ,  9246.69239891,  9085.22878099,  9111.4641213 ,\n",
              "        9115.5696774 ,  9009.3858249 ,  8955.71680137,  8842.34637033,\n",
              "        8951.01476366,  8864.31995321,  8709.9435411 ,  8654.06165695,\n",
              "        8642.65783097,  8580.05819724,  8485.64041902,  8454.93258624,\n",
              "        8393.9377147 ,  8371.5066503 ,  8402.73243646,  8472.13372627,\n",
              "        8365.05633486,  8556.07423458,  8444.75284932,  8508.33910455,\n",
              "        8416.52468754,  8429.12787969,  8434.7795427 ,  8314.26861525,\n",
              "        8198.7617265 ,  8154.18773329,  8278.37263267,  8322.00862478,\n",
              "        8433.91379017,  8590.3522627 ,  8634.85404678,  8555.66834631,\n",
              "        8561.33276995,  8586.22008197,  8676.1635228 ,  8624.63299118,\n",
              "        8599.15706348,  8700.00536524,  8758.49400653,  8747.11300093,\n",
              "        8671.77154922,  8658.15123854,  8662.9344497 ,  8693.38496565,\n",
              "        8578.40457968,  8698.67893388,  8767.46001009,  8929.29512524,\n",
              "        8954.71309068,  8972.21304648,  9051.44505765,  9032.09755271,\n",
              "        9048.85195533,  9009.4924386 ,  9029.62043924,  8890.04430735,\n",
              "        8956.05111323,  9029.68101802,  9017.14865051,  9179.12730837,\n",
              "        9127.67461311,  9074.5043944 ,  8854.71631585,  8977.03839323,\n",
              "        8994.99232527,  8961.60757688,  9048.77806683,  9027.09026758,\n",
              "        8873.7980691 ,  8826.33564825,  8844.05159282,  8888.1149854 ,\n",
              "        8986.1290783 ,  9079.43005996,  9161.91245903,  9376.64357653,\n",
              "        9587.85306624,  9492.10241704,  9376.43208963,  9515.10166961,\n",
              "        9466.51946921,  9655.11692782,  9643.00511457,  9624.19403803,\n",
              "        9601.03688023,  9546.70060255,  9396.14605034,  9520.76680281,\n",
              "        9608.26624705,  9720.45730747,  9698.29538316,  9674.62857131,\n",
              "        9665.6161824 ,  9648.97483525,  9583.53409589,  9559.59651129,\n",
              "        9708.49381568,  9780.60429106,  9737.20159647,  9643.37649619,\n",
              "        9729.12335023,  9849.49733673,  9866.78592643,  9979.21247427,\n",
              "        9982.60387495,  9899.47134739, 10027.04919028, 10009.81718728,\n",
              "       10063.75385439, 10262.8722815 , 10354.11129051, 10374.73056642,\n",
              "       10189.67998792, 10364.21629305, 10264.38174853, 10404.91019893,\n",
              "       10454.0331221 , 10361.99920727, 10365.70512389, 10491.93495254,\n",
              "       10524.10518083, 10425.20202888, 10493.88508094, 10356.18406371,\n",
              "       10289.0500377 , 10321.86977952, 10584.05073445, 10511.64002129,\n",
              "       10429.69453438, 10362.69600175, 10495.80991204, 10567.09159166,\n",
              "       10712.14067037, 10612.97061424, 10748.6328009 , 10787.40961542,\n",
              "       10851.66614927, 10787.12910694, 10689.18765623, 10576.80973225,\n",
              "       10586.59692825, 10441.00259324, 10300.41657168, 10233.72903999,\n",
              "       10348.76454984, 10475.62077506, 10463.50623985, 10432.00766501,\n",
              "       10296.45422717, 10295.19499372, 10285.304762  , 10198.57633933,\n",
              "       10268.78412004, 10234.49249584, 10198.76149908, 10390.3863707 ,\n",
              "       10443.67798326, 10276.75765829, 10340.64527302, 10259.34075839,\n",
              "       10278.2568278 , 10330.2459524 , 10251.00173422, 10303.73526173,\n",
              "       10301.89915821, 10474.30021232, 10452.37538854, 10372.87367713,\n",
              "       10429.82463638, 10597.82074756, 10664.92097728, 10676.15598041,\n",
              "       10882.78380602, 11077.47589357])"
            ]
          },
          "metadata": {},
          "execution_count": 161
        }
      ]
    },
    {
      "cell_type": "markdown",
      "source": [
        "## 정수 데이터 카운팅\n",
        "  * 만약 난수가 정수값이면 unique 명령이나 bincount 명령으로 데이터의 빈도가 값을 분석"
      ],
      "metadata": {
        "id": "nSsp1R_BfCGt"
      }
    },
    {
      "cell_type": "markdown",
      "source": [
        "### `unique`\n",
        "* unique 함수는 데이터에서 중복된 값을 제거하고 중복되지 않은 값의 리스트 출력 (set?)\n",
        "* return_counts 인수를 True로 설정하면 각 값을 가진 데이터 갯수도 출력"
      ],
      "metadata": {
        "id": "tHaFzdtdfN-V"
      }
    },
    {
      "cell_type": "code",
      "source": [
        "set([11, 11, 2, 2, 34, 34])"
      ],
      "metadata": {
        "colab": {
          "base_uri": "https://localhost:8080/"
        },
        "id": "ZRyPTw3qfm85",
        "outputId": "68bab19d-75c0-4bbe-e62d-570adf7671b9"
      },
      "execution_count": null,
      "outputs": [
        {
          "output_type": "execute_result",
          "data": {
            "text/plain": [
              "{2, 11, 34}"
            ]
          },
          "metadata": {},
          "execution_count": 162
        }
      ]
    },
    {
      "cell_type": "code",
      "source": [
        "np.unique([11, 11, 2, 2, 34, 34])"
      ],
      "metadata": {
        "colab": {
          "base_uri": "https://localhost:8080/"
        },
        "id": "lJd5XnCqfbpt",
        "outputId": "ff4f2c11-35cb-4273-c923-3bbb0c943ee7"
      },
      "execution_count": null,
      "outputs": [
        {
          "output_type": "execute_result",
          "data": {
            "text/plain": [
              "array([ 2, 11, 34])"
            ]
          },
          "metadata": {},
          "execution_count": 163
        }
      ]
    },
    {
      "cell_type": "code",
      "source": [
        "a = np.array(['a', 'b', 'b', 'c', 'a'])\n",
        "# np.unique(a, return_counts=True)\n",
        "index, count = np.unique(a, return_counts=True) # 중복제거된 값들, 각 값의 빈도수"
      ],
      "metadata": {
        "id": "Fd8rthFFfthm"
      },
      "execution_count": null,
      "outputs": []
    },
    {
      "cell_type": "code",
      "source": [
        "index"
      ],
      "metadata": {
        "colab": {
          "base_uri": "https://localhost:8080/"
        },
        "id": "-ZpoyXIBgH5G",
        "outputId": "712c87e4-ad60-4ad5-9532-16ec46614588"
      },
      "execution_count": null,
      "outputs": [
        {
          "output_type": "execute_result",
          "data": {
            "text/plain": [
              "array(['a', 'b', 'c'], dtype='<U1')"
            ]
          },
          "metadata": {},
          "execution_count": 165
        }
      ]
    },
    {
      "cell_type": "code",
      "source": [
        "count"
      ],
      "metadata": {
        "colab": {
          "base_uri": "https://localhost:8080/"
        },
        "id": "eOT09dRGgIwO",
        "outputId": "9f79bb71-6012-474b-f596-2a236a7bb32f"
      },
      "execution_count": null,
      "outputs": [
        {
          "output_type": "execute_result",
          "data": {
            "text/plain": [
              "array([2, 2, 1])"
            ]
          },
          "metadata": {},
          "execution_count": 166
        }
      ]
    },
    {
      "cell_type": "code",
      "source": [
        "list(zip(index, count))"
      ],
      "metadata": {
        "colab": {
          "base_uri": "https://localhost:8080/"
        },
        "id": "rrFOAHi8gRav",
        "outputId": "74ba7168-9a8b-49cf-9929-cae9201b31cd"
      },
      "execution_count": null,
      "outputs": [
        {
          "output_type": "execute_result",
          "data": {
            "text/plain": [
              "[('a', 2), ('b', 2), ('c', 1)]"
            ]
          },
          "metadata": {},
          "execution_count": 167
        }
      ]
    },
    {
      "cell_type": "markdown",
      "source": [
        "### `bincount`\n",
        "* `unique` 함수는 데이터에 존재하는 값에 대해서만 갯수를 세므로 데이터 값이 나올 수 있음에도 불구하고 데이터가 하나도 없는 경우에는 정보를 주지 않음\n",
        "* 따라서 데이터가 주사위를 던졌을 때 나오는 수처럼 특정 범위안의 수인 경우에는 `bincount` 함수에 `minlength` 인수를 설정하여 쓰는 것이 더 편리\n",
        "* `bincount` 함수는 0 부터 `minlength` - 1 까지의 숫자에 대해 각각 카운트\n",
        "* 데이터가 없을 경우에는 카운트 값이 0이 됨"
      ],
      "metadata": {
        "id": "hUKsCLuKgbbZ"
      }
    },
    {
      "cell_type": "code",
      "source": [
        "np.bincount([1, 1, 2, 2, 2, 3], minlength=6)"
      ],
      "metadata": {
        "colab": {
          "base_uri": "https://localhost:8080/"
        },
        "id": "dE3SR13Ogwbw",
        "outputId": "00d8971e-f947-4d74-fb15-358de90b17b4"
      },
      "execution_count": null,
      "outputs": [
        {
          "output_type": "execute_result",
          "data": {
            "text/plain": [
              "array([0, 2, 3, 1, 0, 0])"
            ]
          },
          "metadata": {},
          "execution_count": 168
        }
      ]
    },
    {
      "cell_type": "code",
      "source": [
        "r = np.random.randint(6, size=10) # 0~5\n",
        "r"
      ],
      "metadata": {
        "colab": {
          "base_uri": "https://localhost:8080/"
        },
        "id": "nwC_glZdgyCo",
        "outputId": "df4713f5-640a-49c0-c3d4-a9e55907bf89"
      },
      "execution_count": null,
      "outputs": [
        {
          "output_type": "execute_result",
          "data": {
            "text/plain": [
              "array([4, 4, 2, 0, 4, 2, 0, 0, 0, 4])"
            ]
          },
          "metadata": {},
          "execution_count": 169
        }
      ]
    },
    {
      "cell_type": "code",
      "source": [
        "np.unique(r, return_counts=True)"
      ],
      "metadata": {
        "colab": {
          "base_uri": "https://localhost:8080/"
        },
        "id": "uqgf-JPThInA",
        "outputId": "c421ed5f-28de-4d48-e950-cfae92b5a2e7"
      },
      "execution_count": null,
      "outputs": [
        {
          "output_type": "execute_result",
          "data": {
            "text/plain": [
              "(array([0, 2, 4]), array([4, 2, 4]))"
            ]
          },
          "metadata": {},
          "execution_count": 170
        }
      ]
    },
    {
      "cell_type": "code",
      "source": [
        "np.bincount(r, minlength=6)"
      ],
      "metadata": {
        "colab": {
          "base_uri": "https://localhost:8080/"
        },
        "id": "CxjqVA8dhBP0",
        "outputId": "232a313e-781c-4ad7-d174-3e7af58bb385"
      },
      "execution_count": null,
      "outputs": [
        {
          "output_type": "execute_result",
          "data": {
            "text/plain": [
              "array([4, 0, 2, 0, 4, 0])"
            ]
          },
          "metadata": {},
          "execution_count": 171
        }
      ]
    }
  ]
}